{
 "cells": [
  {
   "cell_type": "code",
   "execution_count": 1,
   "id": "0d9c150d",
   "metadata": {},
   "outputs": [
    {
     "name": "stderr",
     "output_type": "stream",
     "text": [
      "Using Spark's default log4j profile: org/apache/spark/log4j-defaults.properties\n",
      "Setting default log level to \"WARN\".\n",
      "To adjust logging level use sc.setLogLevel(newLevel). For SparkR, use setLogLevel(newLevel).\n",
      "21/12/08 15:22:38 WARN NativeCodeLoader: Unable to load native-hadoop library for your platform... using builtin-java classes where applicable\n"
     ]
    }
   ],
   "source": [
    "import matplotlib.pyplot as plt\n",
    "import seaborn as sns\n",
    "from sklearn import metrics\n",
    "import pandas as pd\n",
    "from pyspark.sql import SparkSession\n",
    "spark = SparkSession.builder.appName(\"spark\").getOrCreate()"
   ]
  },
  {
   "cell_type": "code",
   "execution_count": 2,
   "id": "0be79659",
   "metadata": {},
   "outputs": [
    {
     "name": "stderr",
     "output_type": "stream",
     "text": [
      "                                                                                \r"
     ]
    }
   ],
   "source": [
    "df = spark.read.csv('diabetes_012_health_indicators_BRFSS2015.csv', header = True, inferSchema = True)"
   ]
  },
  {
   "cell_type": "markdown",
   "id": "eea75f34",
   "metadata": {},
   "source": [
    "# Data Understanding\n",
    "In this section of the code we will be attempting to understand the dataset that has been provided via Kaggle.\n",
    "- https://www.kaggle.com/alexteboul/diabetes-health-indicators-dataset"
   ]
  },
  {
   "cell_type": "code",
   "execution_count": 3,
   "id": "7f7ec1c6",
   "metadata": {},
   "outputs": [
    {
     "name": "stdout",
     "output_type": "stream",
     "text": [
      "+------------+------+--------+---------+----+------+------+--------------------+------------+------+-------+-----------------+-------------+-----------+-------+--------+--------+--------+---+----+---------+------+\n",
      "|Diabetes_012|HighBP|HighChol|CholCheck| BMI|Smoker|Stroke|HeartDiseaseorAttack|PhysActivity|Fruits|Veggies|HvyAlcoholConsump|AnyHealthcare|NoDocbcCost|GenHlth|MentHlth|PhysHlth|DiffWalk|Sex| Age|Education|Income|\n",
      "+------------+------+--------+---------+----+------+------+--------------------+------------+------+-------+-----------------+-------------+-----------+-------+--------+--------+--------+---+----+---------+------+\n",
      "|         0.0|   1.0|     1.0|      1.0|40.0|   1.0|   0.0|                 0.0|         0.0|   0.0|    1.0|              0.0|          1.0|        0.0|    5.0|    18.0|    15.0|     1.0|0.0| 9.0|      4.0|   3.0|\n",
      "|         0.0|   0.0|     0.0|      0.0|25.0|   1.0|   0.0|                 0.0|         1.0|   0.0|    0.0|              0.0|          0.0|        1.0|    3.0|     0.0|     0.0|     0.0|0.0| 7.0|      6.0|   1.0|\n",
      "|         0.0|   1.0|     1.0|      1.0|28.0|   0.0|   0.0|                 0.0|         0.0|   1.0|    0.0|              0.0|          1.0|        1.0|    5.0|    30.0|    30.0|     1.0|0.0| 9.0|      4.0|   8.0|\n",
      "|         0.0|   1.0|     0.0|      1.0|27.0|   0.0|   0.0|                 0.0|         1.0|   1.0|    1.0|              0.0|          1.0|        0.0|    2.0|     0.0|     0.0|     0.0|0.0|11.0|      3.0|   6.0|\n",
      "|         0.0|   1.0|     1.0|      1.0|24.0|   0.0|   0.0|                 0.0|         1.0|   1.0|    1.0|              0.0|          1.0|        0.0|    2.0|     3.0|     0.0|     0.0|0.0|11.0|      5.0|   4.0|\n",
      "|         0.0|   1.0|     1.0|      1.0|25.0|   1.0|   0.0|                 0.0|         1.0|   1.0|    1.0|              0.0|          1.0|        0.0|    2.0|     0.0|     2.0|     0.0|1.0|10.0|      6.0|   8.0|\n",
      "|         0.0|   1.0|     0.0|      1.0|30.0|   1.0|   0.0|                 0.0|         0.0|   0.0|    0.0|              0.0|          1.0|        0.0|    3.0|     0.0|    14.0|     0.0|0.0| 9.0|      6.0|   7.0|\n",
      "|         0.0|   1.0|     1.0|      1.0|25.0|   1.0|   0.0|                 0.0|         1.0|   0.0|    1.0|              0.0|          1.0|        0.0|    3.0|     0.0|     0.0|     1.0|0.0|11.0|      4.0|   4.0|\n",
      "|         2.0|   1.0|     1.0|      1.0|30.0|   1.0|   0.0|                 1.0|         0.0|   1.0|    1.0|              0.0|          1.0|        0.0|    5.0|    30.0|    30.0|     1.0|0.0| 9.0|      5.0|   1.0|\n",
      "|         0.0|   0.0|     0.0|      1.0|24.0|   0.0|   0.0|                 0.0|         0.0|   0.0|    1.0|              0.0|          1.0|        0.0|    2.0|     0.0|     0.0|     0.0|1.0| 8.0|      4.0|   3.0|\n",
      "|         2.0|   0.0|     0.0|      1.0|25.0|   1.0|   0.0|                 0.0|         1.0|   1.0|    1.0|              0.0|          1.0|        0.0|    3.0|     0.0|     0.0|     0.0|1.0|13.0|      6.0|   8.0|\n",
      "|         0.0|   1.0|     1.0|      1.0|34.0|   1.0|   0.0|                 0.0|         0.0|   1.0|    1.0|              0.0|          1.0|        0.0|    3.0|     0.0|    30.0|     1.0|0.0|10.0|      5.0|   1.0|\n",
      "|         0.0|   0.0|     0.0|      1.0|26.0|   1.0|   0.0|                 0.0|         0.0|   0.0|    1.0|              0.0|          1.0|        0.0|    3.0|     0.0|    15.0|     0.0|0.0| 7.0|      5.0|   7.0|\n",
      "|         2.0|   1.0|     1.0|      1.0|28.0|   0.0|   0.0|                 0.0|         0.0|   0.0|    1.0|              0.0|          1.0|        0.0|    4.0|     0.0|     0.0|     1.0|0.0|11.0|      4.0|   6.0|\n",
      "|         0.0|   0.0|     1.0|      1.0|33.0|   1.0|   1.0|                 0.0|         1.0|   0.0|    1.0|              0.0|          1.0|        1.0|    4.0|    30.0|    28.0|     0.0|0.0| 4.0|      6.0|   2.0|\n",
      "|         0.0|   1.0|     0.0|      1.0|33.0|   0.0|   0.0|                 0.0|         1.0|   0.0|    0.0|              0.0|          1.0|        0.0|    2.0|     5.0|     0.0|     0.0|0.0| 6.0|      6.0|   8.0|\n",
      "|         0.0|   1.0|     1.0|      1.0|21.0|   0.0|   0.0|                 0.0|         1.0|   1.0|    1.0|              0.0|          1.0|        0.0|    3.0|     0.0|     0.0|     0.0|0.0|10.0|      4.0|   3.0|\n",
      "|         2.0|   0.0|     0.0|      1.0|23.0|   1.0|   0.0|                 0.0|         1.0|   0.0|    0.0|              0.0|          1.0|        0.0|    2.0|     0.0|     0.0|     0.0|1.0| 7.0|      5.0|   6.0|\n",
      "|         0.0|   0.0|     0.0|      0.0|23.0|   0.0|   0.0|                 0.0|         0.0|   0.0|    1.0|              0.0|          1.0|        0.0|    2.0|    15.0|     0.0|     0.0|0.0| 2.0|      6.0|   7.0|\n",
      "|         0.0|   0.0|     1.0|      1.0|28.0|   0.0|   0.0|                 0.0|         0.0|   0.0|    0.0|              1.0|          1.0|        0.0|    2.0|    10.0|     0.0|     0.0|1.0| 4.0|      6.0|   8.0|\n",
      "+------------+------+--------+---------+----+------+------+--------------------+------------+------+-------+-----------------+-------------+-----------+-------+--------+--------+--------+---+----+---------+------+\n",
      "only showing top 20 rows\n",
      "\n"
     ]
    }
   ],
   "source": [
    "df.show()"
   ]
  },
  {
   "cell_type": "code",
   "execution_count": 4,
   "id": "3e898bd3",
   "metadata": {},
   "outputs": [
    {
     "name": "stderr",
     "output_type": "stream",
     "text": [
      "                                                                                \r"
     ]
    },
    {
     "name": "stdout",
     "output_type": "stream",
     "text": [
      "(253680, 22)\n"
     ]
    },
    {
     "name": "stderr",
     "output_type": "stream",
     "text": [
      "\r",
      "[Stage 6:>                                                          (0 + 6) / 6]\r"
     ]
    },
    {
     "name": "stdout",
     "output_type": "stream",
     "text": [
      "+------------+------+\n",
      "|Diabetes_012| count|\n",
      "+------------+------+\n",
      "|         0.0|213703|\n",
      "|         1.0|  4631|\n",
      "|         2.0| 35346|\n",
      "+------------+------+\n",
      "\n"
     ]
    },
    {
     "name": "stderr",
     "output_type": "stream",
     "text": [
      "\r",
      "                                                                                \r"
     ]
    }
   ],
   "source": [
    "#Shape of the datadrame and counting the values in the Diabetes dataset.\n",
    "print((df.count(),len(df.columns)))\n",
    "df.groupby('Diabetes_012').count().show()"
   ]
  },
  {
   "cell_type": "code",
   "execution_count": 94,
   "id": "867d54ea",
   "metadata": {},
   "outputs": [
    {
     "name": "stdout",
     "output_type": "stream",
     "text": [
      "root\n",
      " |-- Diabetes_012: double (nullable = true)\n",
      " |-- HighBP: double (nullable = true)\n",
      " |-- HighChol: double (nullable = true)\n",
      " |-- CholCheck: double (nullable = true)\n",
      " |-- BMI: double (nullable = true)\n",
      " |-- Smoker: double (nullable = true)\n",
      " |-- Stroke: double (nullable = true)\n",
      " |-- HeartDiseaseorAttack: double (nullable = true)\n",
      " |-- PhysActivity: double (nullable = true)\n",
      " |-- Fruits: double (nullable = true)\n",
      " |-- Veggies: double (nullable = true)\n",
      " |-- HvyAlcoholConsump: double (nullable = true)\n",
      " |-- AnyHealthcare: double (nullable = true)\n",
      " |-- NoDocbcCost: double (nullable = true)\n",
      " |-- GenHlth: double (nullable = true)\n",
      " |-- MentHlth: double (nullable = true)\n",
      " |-- PhysHlth: double (nullable = true)\n",
      " |-- DiffWalk: double (nullable = true)\n",
      " |-- Sex: double (nullable = true)\n",
      " |-- Age: double (nullable = true)\n",
      " |-- Education: double (nullable = true)\n",
      " |-- Income: double (nullable = true)\n",
      "\n"
     ]
    }
   ],
   "source": [
    "df.printSchema()"
   ]
  },
  {
   "cell_type": "code",
   "execution_count": 95,
   "id": "f5cbf412",
   "metadata": {},
   "outputs": [],
   "source": [
    "#Data cleaning\n",
    "def dataCleaning(df,print_result):\n",
    "    for col in df.columns:\n",
    "        if print_result==True:\n",
    "            print(col,\":\",df[df[col].isNull()].count())"
   ]
  },
  {
   "cell_type": "code",
   "execution_count": 96,
   "id": "e923ff71",
   "metadata": {},
   "outputs": [
    {
     "name": "stdout",
     "output_type": "stream",
     "text": [
      "Finding NULL values\n"
     ]
    },
    {
     "name": "stderr",
     "output_type": "stream",
     "text": [
      "\r",
      "                                                                                \r"
     ]
    },
    {
     "name": "stdout",
     "output_type": "stream",
     "text": [
      "Diabetes_012 : 0\n",
      "HighBP : 0\n",
      "HighChol : 0\n",
      "CholCheck : 0\n",
      "BMI : 0\n",
      "Smoker : 0\n",
      "Stroke : 0\n",
      "HeartDiseaseorAttack : 0\n",
      "PhysActivity : 0\n",
      "Fruits : 0\n",
      "Veggies : 0\n",
      "HvyAlcoholConsump : 0\n",
      "AnyHealthcare : 0\n",
      "NoDocbcCost : 0\n",
      "GenHlth : 0\n",
      "MentHlth : 0\n",
      "PhysHlth : 0\n",
      "DiffWalk : 0\n",
      "Sex : 0\n",
      "Age : 0\n",
      "Education : 0\n",
      "Income : 0\n"
     ]
    }
   ],
   "source": [
    "print(\"Finding NULL values\")\n",
    "dataCleaning(df,True)"
   ]
  },
  {
   "cell_type": "code",
   "execution_count": 5,
   "id": "1db8ff4e",
   "metadata": {},
   "outputs": [
    {
     "name": "stdout",
     "output_type": "stream",
     "text": [
      "+------------+------+--------+---------+----+------+------+--------------------+------------+------+-------+-----------------+-------------+-----------+-------+--------+--------+--------+---+----+---------+------+\n",
      "|Diabetes_012|HighBP|HighChol|CholCheck| BMI|Smoker|Stroke|HeartDiseaseorAttack|PhysActivity|Fruits|Veggies|HvyAlcoholConsump|AnyHealthcare|NoDocbcCost|GenHlth|MentHlth|PhysHlth|DiffWalk|Sex| Age|Education|Income|\n",
      "+------------+------+--------+---------+----+------+------+--------------------+------------+------+-------+-----------------+-------------+-----------+-------+--------+--------+--------+---+----+---------+------+\n",
      "|         0.0|   1.0|     1.0|      1.0|40.0|   1.0|   0.0|                 0.0|         0.0|   0.0|    1.0|              0.0|          1.0|        0.0|    5.0|    18.0|    15.0|     1.0|0.0| 9.0|      4.0|   3.0|\n",
      "|         0.0|   0.0|     0.0|      0.0|25.0|   1.0|   0.0|                 0.0|         1.0|   0.0|    0.0|              0.0|          0.0|        1.0|    3.0|     0.0|     0.0|     0.0|0.0| 7.0|      6.0|   1.0|\n",
      "|         0.0|   1.0|     1.0|      1.0|28.0|   0.0|   0.0|                 0.0|         0.0|   1.0|    0.0|              0.0|          1.0|        1.0|    5.0|    30.0|    30.0|     1.0|0.0| 9.0|      4.0|   8.0|\n",
      "|         0.0|   1.0|     0.0|      1.0|27.0|   0.0|   0.0|                 0.0|         1.0|   1.0|    1.0|              0.0|          1.0|        0.0|    2.0|     0.0|     0.0|     0.0|0.0|11.0|      3.0|   6.0|\n",
      "|         0.0|   1.0|     1.0|      1.0|24.0|   0.0|   0.0|                 0.0|         1.0|   1.0|    1.0|              0.0|          1.0|        0.0|    2.0|     3.0|     0.0|     0.0|0.0|11.0|      5.0|   4.0|\n",
      "|         0.0|   1.0|     1.0|      1.0|25.0|   1.0|   0.0|                 0.0|         1.0|   1.0|    1.0|              0.0|          1.0|        0.0|    2.0|     0.0|     2.0|     0.0|1.0|10.0|      6.0|   8.0|\n",
      "|         0.0|   1.0|     0.0|      1.0|30.0|   1.0|   0.0|                 0.0|         0.0|   0.0|    0.0|              0.0|          1.0|        0.0|    3.0|     0.0|    14.0|     0.0|0.0| 9.0|      6.0|   7.0|\n",
      "|         0.0|   1.0|     1.0|      1.0|25.0|   1.0|   0.0|                 0.0|         1.0|   0.0|    1.0|              0.0|          1.0|        0.0|    3.0|     0.0|     0.0|     1.0|0.0|11.0|      4.0|   4.0|\n",
      "|         2.0|   1.0|     1.0|      1.0|30.0|   1.0|   0.0|                 1.0|         0.0|   1.0|    1.0|              0.0|          1.0|        0.0|    5.0|    30.0|    30.0|     1.0|0.0| 9.0|      5.0|   1.0|\n",
      "|         0.0|   0.0|     0.0|      1.0|24.0|   0.0|   0.0|                 0.0|         0.0|   0.0|    1.0|              0.0|          1.0|        0.0|    2.0|     0.0|     0.0|     0.0|1.0| 8.0|      4.0|   3.0|\n",
      "|         2.0|   0.0|     0.0|      1.0|25.0|   1.0|   0.0|                 0.0|         1.0|   1.0|    1.0|              0.0|          1.0|        0.0|    3.0|     0.0|     0.0|     0.0|1.0|13.0|      6.0|   8.0|\n",
      "|         0.0|   1.0|     1.0|      1.0|34.0|   1.0|   0.0|                 0.0|         0.0|   1.0|    1.0|              0.0|          1.0|        0.0|    3.0|     0.0|    30.0|     1.0|0.0|10.0|      5.0|   1.0|\n",
      "|         0.0|   0.0|     0.0|      1.0|26.0|   1.0|   0.0|                 0.0|         0.0|   0.0|    1.0|              0.0|          1.0|        0.0|    3.0|     0.0|    15.0|     0.0|0.0| 7.0|      5.0|   7.0|\n",
      "|         2.0|   1.0|     1.0|      1.0|28.0|   0.0|   0.0|                 0.0|         0.0|   0.0|    1.0|              0.0|          1.0|        0.0|    4.0|     0.0|     0.0|     1.0|0.0|11.0|      4.0|   6.0|\n",
      "|         0.0|   0.0|     1.0|      1.0|33.0|   1.0|   1.0|                 0.0|         1.0|   0.0|    1.0|              0.0|          1.0|        1.0|    4.0|    30.0|    28.0|     0.0|0.0| 4.0|      6.0|   2.0|\n",
      "|         0.0|   1.0|     0.0|      1.0|33.0|   0.0|   0.0|                 0.0|         1.0|   0.0|    0.0|              0.0|          1.0|        0.0|    2.0|     5.0|     0.0|     0.0|0.0| 6.0|      6.0|   8.0|\n",
      "|         0.0|   1.0|     1.0|      1.0|21.0|   0.0|   0.0|                 0.0|         1.0|   1.0|    1.0|              0.0|          1.0|        0.0|    3.0|     0.0|     0.0|     0.0|0.0|10.0|      4.0|   3.0|\n",
      "|         2.0|   0.0|     0.0|      1.0|23.0|   1.0|   0.0|                 0.0|         1.0|   0.0|    0.0|              0.0|          1.0|        0.0|    2.0|     0.0|     0.0|     0.0|1.0| 7.0|      5.0|   6.0|\n",
      "|         0.0|   0.0|     0.0|      0.0|23.0|   0.0|   0.0|                 0.0|         0.0|   0.0|    1.0|              0.0|          1.0|        0.0|    2.0|    15.0|     0.0|     0.0|0.0| 2.0|      6.0|   7.0|\n",
      "|         0.0|   0.0|     1.0|      1.0|28.0|   0.0|   0.0|                 0.0|         0.0|   0.0|    0.0|              1.0|          1.0|        0.0|    2.0|    10.0|     0.0|     0.0|1.0| 4.0|      6.0|   8.0|\n",
      "+------------+------+--------+---------+----+------+------+--------------------+------------+------+-------+-----------------+-------------+-----------+-------+--------+--------+--------+---+----+---------+------+\n",
      "only showing top 20 rows\n",
      "\n",
      "+------------+------+\n",
      "|Diabetes_012| count|\n",
      "+------------+------+\n",
      "|         0.0|213703|\n",
      "|         1.0| 35346|\n",
      "+------------+------+\n",
      "\n"
     ]
    }
   ],
   "source": [
    "#Removing prediabetes from the dataset and replacing the diabetes value from 2 to 1\n",
    "from pyspark.sql import functions as F\n",
    "df1 = df.filter(df.Diabetes_012!=1.0)\n",
    "df1.show()\n",
    "df2 = df1.na.replace([2.0], [1.0], 'Diabetes_012')\n",
    "df2.groupby('Diabetes_012').count().show()"
   ]
  },
  {
   "cell_type": "code",
   "execution_count": 9,
   "id": "342c55bd",
   "metadata": {},
   "outputs": [
    {
     "name": "stdout",
     "output_type": "stream",
     "text": [
      "Diabetes_012 : 1.0\n",
      "HighBP : 0.2715964243298824\n",
      "HighChol : 0.20908491100576146\n",
      "CholCheck : 0.06754647611600013\n",
      "BMI : 0.2243794737583975\n",
      "Smoker : 0.0629140950601668\n",
      "Stroke : 0.10717866994339764\n",
      "HeartDiseaseorAttack : 0.18027168633560287\n",
      "PhysActivity : -0.12194716655035258\n",
      "Fruits : -0.04219162985450684\n",
      "Veggies : -0.058971599234704304\n",
      "HvyAlcoholConsump : -0.05788191173818581\n",
      "AnyHealthcare : 0.015410377239766794\n",
      "NoDocbcCost : 0.03543568500155128\n",
      "GenHlth : 0.3025866208859791\n",
      "MentHlth : 0.07350676620655906\n",
      "PhysHlth : 0.17628673570564043\n",
      "DiffWalk : 0.22423912328804765\n",
      "Sex : 0.031040163652105594\n",
      "Age : 0.18502579410172637\n",
      "Education : -0.1305169177115621\n",
      "Income : -0.17148303762778558\n"
     ]
    }
   ],
   "source": [
    "for col in df.columns:\n",
    "    print(col,\":\",df.stat.corr('Diabetes_012',col))"
   ]
  },
  {
   "cell_type": "code",
   "execution_count": 10,
   "id": "b5d5e602",
   "metadata": {},
   "outputs": [
    {
     "name": "stdout",
     "output_type": "stream",
     "text": [
      "+------------+------+--------+---------+----+------+------+--------------------+------------+------+-------+-----------------+-------------+-----------+-------+--------+--------+--------+---+----+---------+------+\n",
      "|Diabetes_012|HighBP|HighChol|CholCheck| BMI|Smoker|Stroke|HeartDiseaseorAttack|PhysActivity|Fruits|Veggies|HvyAlcoholConsump|AnyHealthcare|NoDocbcCost|GenHlth|MentHlth|PhysHlth|DiffWalk|Sex| Age|Education|Income|\n",
      "+------------+------+--------+---------+----+------+------+--------------------+------------+------+-------+-----------------+-------------+-----------+-------+--------+--------+--------+---+----+---------+------+\n",
      "|         0.0|   1.0|     1.0|      1.0|40.0|   1.0|   0.0|                 0.0|         0.0|   0.0|    1.0|              0.0|          1.0|        0.0|    5.0|    18.0|    15.0|     1.0|0.0| 9.0|      4.0|   3.0|\n",
      "|         0.0|   0.0|     0.0|      0.0|25.0|   1.0|   0.0|                 0.0|         1.0|   0.0|    0.0|              0.0|          0.0|        1.0|    3.0|     0.0|     0.0|     0.0|0.0| 7.0|      6.0|   1.0|\n",
      "|         0.0|   1.0|     1.0|      1.0|28.0|   0.0|   0.0|                 0.0|         0.0|   1.0|    0.0|              0.0|          1.0|        1.0|    5.0|    30.0|    30.0|     1.0|0.0| 9.0|      4.0|   8.0|\n",
      "|         0.0|   1.0|     0.0|      1.0|27.0|   0.0|   0.0|                 0.0|         1.0|   1.0|    1.0|              0.0|          1.0|        0.0|    2.0|     0.0|     0.0|     0.0|0.0|11.0|      3.0|   6.0|\n",
      "|         0.0|   1.0|     1.0|      1.0|24.0|   0.0|   0.0|                 0.0|         1.0|   1.0|    1.0|              0.0|          1.0|        0.0|    2.0|     3.0|     0.0|     0.0|0.0|11.0|      5.0|   4.0|\n",
      "|         0.0|   1.0|     1.0|      1.0|25.0|   1.0|   0.0|                 0.0|         1.0|   1.0|    1.0|              0.0|          1.0|        0.0|    2.0|     0.0|     2.0|     0.0|1.0|10.0|      6.0|   8.0|\n",
      "|         0.0|   1.0|     0.0|      1.0|30.0|   1.0|   0.0|                 0.0|         0.0|   0.0|    0.0|              0.0|          1.0|        0.0|    3.0|     0.0|    14.0|     0.0|0.0| 9.0|      6.0|   7.0|\n",
      "|         0.0|   1.0|     1.0|      1.0|25.0|   1.0|   0.0|                 0.0|         1.0|   0.0|    1.0|              0.0|          1.0|        0.0|    3.0|     0.0|     0.0|     1.0|0.0|11.0|      4.0|   4.0|\n",
      "|         1.0|   1.0|     1.0|      1.0|30.0|   1.0|   0.0|                 1.0|         0.0|   1.0|    1.0|              0.0|          1.0|        0.0|    5.0|    30.0|    30.0|     1.0|0.0| 9.0|      5.0|   1.0|\n",
      "|         0.0|   0.0|     0.0|      1.0|24.0|   0.0|   0.0|                 0.0|         0.0|   0.0|    1.0|              0.0|          1.0|        0.0|    2.0|     0.0|     0.0|     0.0|1.0| 8.0|      4.0|   3.0|\n",
      "|         1.0|   0.0|     0.0|      1.0|25.0|   1.0|   0.0|                 0.0|         1.0|   1.0|    1.0|              0.0|          1.0|        0.0|    3.0|     0.0|     0.0|     0.0|1.0|13.0|      6.0|   8.0|\n",
      "|         0.0|   1.0|     1.0|      1.0|34.0|   1.0|   0.0|                 0.0|         0.0|   1.0|    1.0|              0.0|          1.0|        0.0|    3.0|     0.0|    30.0|     1.0|0.0|10.0|      5.0|   1.0|\n",
      "|         0.0|   0.0|     0.0|      1.0|26.0|   1.0|   0.0|                 0.0|         0.0|   0.0|    1.0|              0.0|          1.0|        0.0|    3.0|     0.0|    15.0|     0.0|0.0| 7.0|      5.0|   7.0|\n",
      "|         1.0|   1.0|     1.0|      1.0|28.0|   0.0|   0.0|                 0.0|         0.0|   0.0|    1.0|              0.0|          1.0|        0.0|    4.0|     0.0|     0.0|     1.0|0.0|11.0|      4.0|   6.0|\n",
      "|         0.0|   0.0|     1.0|      1.0|33.0|   1.0|   1.0|                 0.0|         1.0|   0.0|    1.0|              0.0|          1.0|        1.0|    4.0|    30.0|    28.0|     0.0|0.0| 4.0|      6.0|   2.0|\n",
      "|         0.0|   1.0|     0.0|      1.0|33.0|   0.0|   0.0|                 0.0|         1.0|   0.0|    0.0|              0.0|          1.0|        0.0|    2.0|     5.0|     0.0|     0.0|0.0| 6.0|      6.0|   8.0|\n",
      "|         0.0|   1.0|     1.0|      1.0|21.0|   0.0|   0.0|                 0.0|         1.0|   1.0|    1.0|              0.0|          1.0|        0.0|    3.0|     0.0|     0.0|     0.0|0.0|10.0|      4.0|   3.0|\n",
      "|         1.0|   0.0|     0.0|      1.0|23.0|   1.0|   0.0|                 0.0|         1.0|   0.0|    0.0|              0.0|          1.0|        0.0|    2.0|     0.0|     0.0|     0.0|1.0| 7.0|      5.0|   6.0|\n",
      "|         0.0|   0.0|     0.0|      0.0|23.0|   0.0|   0.0|                 0.0|         0.0|   0.0|    1.0|              0.0|          1.0|        0.0|    2.0|    15.0|     0.0|     0.0|0.0| 2.0|      6.0|   7.0|\n",
      "|         0.0|   0.0|     1.0|      1.0|28.0|   0.0|   0.0|                 0.0|         0.0|   0.0|    0.0|              1.0|          1.0|        0.0|    2.0|    10.0|     0.0|     0.0|1.0| 4.0|      6.0|   8.0|\n",
      "+------------+------+--------+---------+----+------+------+--------------------+------------+------+-------+-----------------+-------------+-----------+-------+--------+--------+--------+---+----+---------+------+\n",
      "only showing top 20 rows\n",
      "\n"
     ]
    }
   ],
   "source": [
    "df2.show()"
   ]
  },
  {
   "cell_type": "markdown",
   "id": "44522ce0",
   "metadata": {},
   "source": [
    "# Explanatory Data Analysis"
   ]
  },
  {
   "cell_type": "code",
   "execution_count": 19,
   "id": "1f4eb500",
   "metadata": {},
   "outputs": [
    {
     "name": "stderr",
     "output_type": "stream",
     "text": [
      "\r",
      "[Stage 106:=========>                                               (1 + 5) / 6]\r",
      "\r",
      "                                                                                \r"
     ]
    }
   ],
   "source": [
    "eda1 = df2.toPandas()"
   ]
  },
  {
   "cell_type": "code",
   "execution_count": 20,
   "id": "255e797a",
   "metadata": {},
   "outputs": [
    {
     "data": {
      "text/html": [
       "<div>\n",
       "<style scoped>\n",
       "    .dataframe tbody tr th:only-of-type {\n",
       "        vertical-align: middle;\n",
       "    }\n",
       "\n",
       "    .dataframe tbody tr th {\n",
       "        vertical-align: top;\n",
       "    }\n",
       "\n",
       "    .dataframe thead th {\n",
       "        text-align: right;\n",
       "    }\n",
       "</style>\n",
       "<table border=\"1\" class=\"dataframe\">\n",
       "  <thead>\n",
       "    <tr style=\"text-align: right;\">\n",
       "      <th></th>\n",
       "      <th>HighBP</th>\n",
       "      <th>HighChol</th>\n",
       "      <th>CholCheck</th>\n",
       "      <th>BMI</th>\n",
       "      <th>Smoker</th>\n",
       "      <th>Stroke</th>\n",
       "      <th>HeartDiseaseorAttack</th>\n",
       "      <th>PhysActivity</th>\n",
       "      <th>Fruits</th>\n",
       "      <th>Veggies</th>\n",
       "      <th>...</th>\n",
       "      <th>AnyHealthcare</th>\n",
       "      <th>NoDocbcCost</th>\n",
       "      <th>GenHlth</th>\n",
       "      <th>MentHlth</th>\n",
       "      <th>PhysHlth</th>\n",
       "      <th>DiffWalk</th>\n",
       "      <th>Sex</th>\n",
       "      <th>Age</th>\n",
       "      <th>Education</th>\n",
       "      <th>Income</th>\n",
       "    </tr>\n",
       "    <tr>\n",
       "      <th>Diabetes_012</th>\n",
       "      <th></th>\n",
       "      <th></th>\n",
       "      <th></th>\n",
       "      <th></th>\n",
       "      <th></th>\n",
       "      <th></th>\n",
       "      <th></th>\n",
       "      <th></th>\n",
       "      <th></th>\n",
       "      <th></th>\n",
       "      <th></th>\n",
       "      <th></th>\n",
       "      <th></th>\n",
       "      <th></th>\n",
       "      <th></th>\n",
       "      <th></th>\n",
       "      <th></th>\n",
       "      <th></th>\n",
       "      <th></th>\n",
       "      <th></th>\n",
       "      <th></th>\n",
       "    </tr>\n",
       "  </thead>\n",
       "  <tbody>\n",
       "    <tr>\n",
       "      <th>0.0</th>\n",
       "      <td>213703</td>\n",
       "      <td>213703</td>\n",
       "      <td>213703</td>\n",
       "      <td>213703</td>\n",
       "      <td>213703</td>\n",
       "      <td>213703</td>\n",
       "      <td>213703</td>\n",
       "      <td>213703</td>\n",
       "      <td>213703</td>\n",
       "      <td>213703</td>\n",
       "      <td>...</td>\n",
       "      <td>213703</td>\n",
       "      <td>213703</td>\n",
       "      <td>213703</td>\n",
       "      <td>213703</td>\n",
       "      <td>213703</td>\n",
       "      <td>213703</td>\n",
       "      <td>213703</td>\n",
       "      <td>213703</td>\n",
       "      <td>213703</td>\n",
       "      <td>213703</td>\n",
       "    </tr>\n",
       "    <tr>\n",
       "      <th>1.0</th>\n",
       "      <td>35346</td>\n",
       "      <td>35346</td>\n",
       "      <td>35346</td>\n",
       "      <td>35346</td>\n",
       "      <td>35346</td>\n",
       "      <td>35346</td>\n",
       "      <td>35346</td>\n",
       "      <td>35346</td>\n",
       "      <td>35346</td>\n",
       "      <td>35346</td>\n",
       "      <td>...</td>\n",
       "      <td>35346</td>\n",
       "      <td>35346</td>\n",
       "      <td>35346</td>\n",
       "      <td>35346</td>\n",
       "      <td>35346</td>\n",
       "      <td>35346</td>\n",
       "      <td>35346</td>\n",
       "      <td>35346</td>\n",
       "      <td>35346</td>\n",
       "      <td>35346</td>\n",
       "    </tr>\n",
       "  </tbody>\n",
       "</table>\n",
       "<p>2 rows × 21 columns</p>\n",
       "</div>"
      ],
      "text/plain": [
       "              HighBP  HighChol  CholCheck     BMI  Smoker  Stroke  \\\n",
       "Diabetes_012                                                        \n",
       "0.0           213703    213703     213703  213703  213703  213703   \n",
       "1.0            35346     35346      35346   35346   35346   35346   \n",
       "\n",
       "              HeartDiseaseorAttack  PhysActivity  Fruits  Veggies  ...  \\\n",
       "Diabetes_012                                                       ...   \n",
       "0.0                         213703        213703  213703   213703  ...   \n",
       "1.0                          35346         35346   35346    35346  ...   \n",
       "\n",
       "              AnyHealthcare  NoDocbcCost  GenHlth  MentHlth  PhysHlth  \\\n",
       "Diabetes_012                                                            \n",
       "0.0                  213703       213703   213703    213703    213703   \n",
       "1.0                   35346        35346    35346     35346     35346   \n",
       "\n",
       "              DiffWalk     Sex     Age  Education  Income  \n",
       "Diabetes_012                                               \n",
       "0.0             213703  213703  213703     213703  213703  \n",
       "1.0              35346   35346   35346      35346   35346  \n",
       "\n",
       "[2 rows x 21 columns]"
      ]
     },
     "execution_count": 20,
     "metadata": {},
     "output_type": "execute_result"
    }
   ],
   "source": [
    "eda1.groupby('Diabetes_012').count()"
   ]
  },
  {
   "cell_type": "code",
   "execution_count": 37,
   "id": "558f9dfd",
   "metadata": {},
   "outputs": [
    {
     "name": "stderr",
     "output_type": "stream",
     "text": [
      "/Users/rishisingh/.local/share/virtualenvs/spark_test-2CXUZLP8/lib/python3.9/site-packages/seaborn/_decorators.py:36: FutureWarning: Pass the following variable as a keyword arg: x. From version 0.12, the only valid positional argument will be `data`, and passing other arguments without an explicit keyword will result in an error or misinterpretation.\n",
      "  warnings.warn(\n"
     ]
    },
    {
     "data": {
      "image/png": "[encoded data removed]",
      "text/plain": [
       "<Figure size 576x432 with 1 Axes>"
      ]
     },
     "metadata": {
      "needs_background": "light"
     },
     "output_type": "display_data"
    }
   ],
   "source": [
    "#visualize diabetes status\n",
    "plt.figure(figsize = (8,6))\n",
    "sns.countplot(eda1['Diabetes_012'], palette=\"rocket\")\n",
    "plt.title(\"Diabetes Status\")\n",
    "plt.show()"
   ]
  },
  {
   "cell_type": "code",
   "execution_count": 22,
   "id": "6527c24e",
   "metadata": {},
   "outputs": [
    {
     "name": "stdout",
     "output_type": "stream",
     "text": [
      "High correlation columns: Index(['Diabetes_012', 'HighBP', 'HighChol', 'BMI', 'GenHlth', 'DiffWalk'], dtype='object')\n"
     ]
    },
    {
     "data": {
      "image/png": "[encoded data removed]",
      "text/plain": [
       "<Figure size 976.375x900 with 30 Axes>"
      ]
     },
     "metadata": {
      "needs_background": "light"
     },
     "output_type": "display_data"
    }
   ],
   "source": [
    "eda1.corr()['Diabetes_012']\n",
    "max_corr = eda1.corr()['Diabetes_012'][eda1.corr()['Diabetes_012'] > 0.2].keys()\n",
    "\n",
    "max_corr = eda1.corr()['Diabetes_012'][eda1.corr()['Diabetes_012'] > 0.2].keys()\n",
    "\n",
    "print(\"High correlation columns:\", max_corr)\n",
    "max_corr_cols = max_corr[1:]\n",
    "\n",
    "sns.pairplot(eda1, x_vars = max_corr_cols, y_vars = max_corr_cols, hue='Diabetes_012', height=2.5, palette=\"rocket\")\n",
    "plt.show()"
   ]
  },
  {
   "cell_type": "code",
   "execution_count": 45,
   "id": "15daef0f",
   "metadata": {},
   "outputs": [
    {
     "name": "stderr",
     "output_type": "stream",
     "text": [
      "/var/folders/2v/mvmk0hw91f52f09fdwf98nvh0000gn/T/ipykernel_79368/1290700380.py:2: SettingWithCopyWarning: \n",
      "A value is trying to be set on a copy of a slice from a DataFrame\n",
      "\n",
      "See the caveats in the documentation: https://pandas.pydata.org/pandas-docs/stable/user_guide/indexing.html#returning-a-view-versus-a-copy\n",
      "  eda2.Diabetes_012[eda2['Diabetes_012'] == 0.0] = 'No Diabetes'\n",
      "/var/folders/2v/mvmk0hw91f52f09fdwf98nvh0000gn/T/ipykernel_79368/1290700380.py:3: SettingWithCopyWarning: \n",
      "A value is trying to be set on a copy of a slice from a DataFrame\n",
      "\n",
      "See the caveats in the documentation: https://pandas.pydata.org/pandas-docs/stable/user_guide/indexing.html#returning-a-view-versus-a-copy\n",
      "  eda2.Diabetes_012[eda2['Diabetes_012'] == 1.0] = 'Diabetes'\n",
      "/var/folders/2v/mvmk0hw91f52f09fdwf98nvh0000gn/T/ipykernel_79368/1290700380.py:6: SettingWithCopyWarning: \n",
      "A value is trying to be set on a copy of a slice from a DataFrame\n",
      "\n",
      "See the caveats in the documentation: https://pandas.pydata.org/pandas-docs/stable/user_guide/indexing.html#returning-a-view-versus-a-copy\n",
      "  eda2.HighBP[eda2['HighBP'] == 0.0] = 'No High'\n",
      "/var/folders/2v/mvmk0hw91f52f09fdwf98nvh0000gn/T/ipykernel_79368/1290700380.py:7: SettingWithCopyWarning: \n",
      "A value is trying to be set on a copy of a slice from a DataFrame\n",
      "\n",
      "See the caveats in the documentation: https://pandas.pydata.org/pandas-docs/stable/user_guide/indexing.html#returning-a-view-versus-a-copy\n",
      "  eda2.HighBP[eda2['HighBP'] == 1.0] = 'High BP'\n",
      "/var/folders/2v/mvmk0hw91f52f09fdwf98nvh0000gn/T/ipykernel_79368/1290700380.py:9: SettingWithCopyWarning: \n",
      "A value is trying to be set on a copy of a slice from a DataFrame\n",
      "\n",
      "See the caveats in the documentation: https://pandas.pydata.org/pandas-docs/stable/user_guide/indexing.html#returning-a-view-versus-a-copy\n",
      "  eda2.HighChol[eda2['HighChol'] == 0.0] = 'No High Chol'\n",
      "/var/folders/2v/mvmk0hw91f52f09fdwf98nvh0000gn/T/ipykernel_79368/1290700380.py:10: SettingWithCopyWarning: \n",
      "A value is trying to be set on a copy of a slice from a DataFrame\n",
      "\n",
      "See the caveats in the documentation: https://pandas.pydata.org/pandas-docs/stable/user_guide/indexing.html#returning-a-view-versus-a-copy\n",
      "  eda2.HighChol[eda2['HighChol'] == 1.0] = 'High Chol'\n",
      "/var/folders/2v/mvmk0hw91f52f09fdwf98nvh0000gn/T/ipykernel_79368/1290700380.py:12: SettingWithCopyWarning: \n",
      "A value is trying to be set on a copy of a slice from a DataFrame\n",
      "\n",
      "See the caveats in the documentation: https://pandas.pydata.org/pandas-docs/stable/user_guide/indexing.html#returning-a-view-versus-a-copy\n",
      "  eda2.GenHlth[eda2['GenHlth'] == 1.0] = 'Excellent'\n",
      "/var/folders/2v/mvmk0hw91f52f09fdwf98nvh0000gn/T/ipykernel_79368/1290700380.py:13: SettingWithCopyWarning: \n",
      "A value is trying to be set on a copy of a slice from a DataFrame\n",
      "\n",
      "See the caveats in the documentation: https://pandas.pydata.org/pandas-docs/stable/user_guide/indexing.html#returning-a-view-versus-a-copy\n",
      "  eda2.GenHlth[eda2['GenHlth'] == 2.0] = 'very good'\n",
      "/var/folders/2v/mvmk0hw91f52f09fdwf98nvh0000gn/T/ipykernel_79368/1290700380.py:14: SettingWithCopyWarning: \n",
      "A value is trying to be set on a copy of a slice from a DataFrame\n",
      "\n",
      "See the caveats in the documentation: https://pandas.pydata.org/pandas-docs/stable/user_guide/indexing.html#returning-a-view-versus-a-copy\n",
      "  eda2.GenHlth[eda2['GenHlth'] == 3.0] = 'good'\n",
      "/var/folders/2v/mvmk0hw91f52f09fdwf98nvh0000gn/T/ipykernel_79368/1290700380.py:15: SettingWithCopyWarning: \n",
      "A value is trying to be set on a copy of a slice from a DataFrame\n",
      "\n",
      "See the caveats in the documentation: https://pandas.pydata.org/pandas-docs/stable/user_guide/indexing.html#returning-a-view-versus-a-copy\n",
      "  eda2.GenHlth[eda2['GenHlth'] == 4.0] = 'fair'\n",
      "/var/folders/2v/mvmk0hw91f52f09fdwf98nvh0000gn/T/ipykernel_79368/1290700380.py:16: SettingWithCopyWarning: \n",
      "A value is trying to be set on a copy of a slice from a DataFrame\n",
      "\n",
      "See the caveats in the documentation: https://pandas.pydata.org/pandas-docs/stable/user_guide/indexing.html#returning-a-view-versus-a-copy\n",
      "  eda2.GenHlth[eda2['GenHlth'] == 5.0] = 'poor'\n",
      "/var/folders/2v/mvmk0hw91f52f09fdwf98nvh0000gn/T/ipykernel_79368/1290700380.py:18: SettingWithCopyWarning: \n",
      "A value is trying to be set on a copy of a slice from a DataFrame\n",
      "\n",
      "See the caveats in the documentation: https://pandas.pydata.org/pandas-docs/stable/user_guide/indexing.html#returning-a-view-versus-a-copy\n",
      "  eda2.DiffWalk[eda2['DiffWalk'] == 0.0] = 'No'\n",
      "/var/folders/2v/mvmk0hw91f52f09fdwf98nvh0000gn/T/ipykernel_79368/1290700380.py:19: SettingWithCopyWarning: \n",
      "A value is trying to be set on a copy of a slice from a DataFrame\n",
      "\n",
      "See the caveats in the documentation: https://pandas.pydata.org/pandas-docs/stable/user_guide/indexing.html#returning-a-view-versus-a-copy\n",
      "  eda2.DiffWalk[eda2['DiffWalk'] == 1.0] = 'yes'\n"
     ]
    }
   ],
   "source": [
    "eda2 = eda1\n",
    "eda2.Diabetes_012[eda2['Diabetes_012'] == 0.0] = 'No Diabetes'\n",
    "eda2.Diabetes_012[eda2['Diabetes_012'] == 1.0] = 'Diabetes'\n",
    "\n",
    "\n",
    "eda2.HighBP[eda2['HighBP'] == 0.0] = 'No High'\n",
    "eda2.HighBP[eda2['HighBP'] == 1.0] = 'High BP'\n",
    "\n",
    "eda2.HighChol[eda2['HighChol'] == 0.0] = 'No High Chol'\n",
    "eda2.HighChol[eda2['HighChol'] == 1.0] = 'High Chol'\n",
    "\n",
    "eda2.GenHlth[eda2['GenHlth'] == 1.0] = 'Excellent'\n",
    "eda2.GenHlth[eda2['GenHlth'] == 2.0] = 'very good'\n",
    "eda2.GenHlth[eda2['GenHlth'] == 3.0] = 'good'\n",
    "eda2.GenHlth[eda2['GenHlth'] == 4.0] = 'fair'\n",
    "eda2.GenHlth[eda2['GenHlth'] == 5.0] = 'poor'\n",
    "\n",
    "eda2.DiffWalk[eda2['DiffWalk'] == 0.0] = 'No'\n",
    "eda2.DiffWalk[eda2['DiffWalk'] == 1.0] = 'yes'"
   ]
  },
  {
   "cell_type": "code",
   "execution_count": 46,
   "id": "cc691fb5",
   "metadata": {},
   "outputs": [
    {
     "data": {
      "text/html": [
       "<div>\n",
       "<style scoped>\n",
       "    .dataframe tbody tr th:only-of-type {\n",
       "        vertical-align: middle;\n",
       "    }\n",
       "\n",
       "    .dataframe tbody tr th {\n",
       "        vertical-align: top;\n",
       "    }\n",
       "\n",
       "    .dataframe thead th {\n",
       "        text-align: right;\n",
       "    }\n",
       "</style>\n",
       "<table border=\"1\" class=\"dataframe\">\n",
       "  <thead>\n",
       "    <tr style=\"text-align: right;\">\n",
       "      <th></th>\n",
       "      <th>Diabetes_012</th>\n",
       "      <th>HighBP</th>\n",
       "      <th>HighChol</th>\n",
       "      <th>BMI</th>\n",
       "      <th>GenHlth</th>\n",
       "      <th>DiffWalk</th>\n",
       "    </tr>\n",
       "  </thead>\n",
       "  <tbody>\n",
       "    <tr>\n",
       "      <th>0</th>\n",
       "      <td>No Diabetes</td>\n",
       "      <td>High BP</td>\n",
       "      <td>High Chol</td>\n",
       "      <td>40.0</td>\n",
       "      <td>poor</td>\n",
       "      <td>yes</td>\n",
       "    </tr>\n",
       "    <tr>\n",
       "      <th>1</th>\n",
       "      <td>No Diabetes</td>\n",
       "      <td>No High</td>\n",
       "      <td>No High Chol</td>\n",
       "      <td>25.0</td>\n",
       "      <td>good</td>\n",
       "      <td>No</td>\n",
       "    </tr>\n",
       "    <tr>\n",
       "      <th>2</th>\n",
       "      <td>No Diabetes</td>\n",
       "      <td>High BP</td>\n",
       "      <td>High Chol</td>\n",
       "      <td>28.0</td>\n",
       "      <td>poor</td>\n",
       "      <td>yes</td>\n",
       "    </tr>\n",
       "    <tr>\n",
       "      <th>3</th>\n",
       "      <td>No Diabetes</td>\n",
       "      <td>High BP</td>\n",
       "      <td>No High Chol</td>\n",
       "      <td>27.0</td>\n",
       "      <td>very good</td>\n",
       "      <td>No</td>\n",
       "    </tr>\n",
       "    <tr>\n",
       "      <th>4</th>\n",
       "      <td>No Diabetes</td>\n",
       "      <td>High BP</td>\n",
       "      <td>High Chol</td>\n",
       "      <td>24.0</td>\n",
       "      <td>very good</td>\n",
       "      <td>No</td>\n",
       "    </tr>\n",
       "    <tr>\n",
       "      <th>...</th>\n",
       "      <td>...</td>\n",
       "      <td>...</td>\n",
       "      <td>...</td>\n",
       "      <td>...</td>\n",
       "      <td>...</td>\n",
       "      <td>...</td>\n",
       "    </tr>\n",
       "    <tr>\n",
       "      <th>249044</th>\n",
       "      <td>No Diabetes</td>\n",
       "      <td>High BP</td>\n",
       "      <td>High Chol</td>\n",
       "      <td>45.0</td>\n",
       "      <td>good</td>\n",
       "      <td>No</td>\n",
       "    </tr>\n",
       "    <tr>\n",
       "      <th>249045</th>\n",
       "      <td>Diabetes</td>\n",
       "      <td>High BP</td>\n",
       "      <td>High Chol</td>\n",
       "      <td>18.0</td>\n",
       "      <td>fair</td>\n",
       "      <td>yes</td>\n",
       "    </tr>\n",
       "    <tr>\n",
       "      <th>249046</th>\n",
       "      <td>No Diabetes</td>\n",
       "      <td>No High</td>\n",
       "      <td>No High Chol</td>\n",
       "      <td>28.0</td>\n",
       "      <td>Excellent</td>\n",
       "      <td>No</td>\n",
       "    </tr>\n",
       "    <tr>\n",
       "      <th>249047</th>\n",
       "      <td>No Diabetes</td>\n",
       "      <td>High BP</td>\n",
       "      <td>No High Chol</td>\n",
       "      <td>23.0</td>\n",
       "      <td>good</td>\n",
       "      <td>No</td>\n",
       "    </tr>\n",
       "    <tr>\n",
       "      <th>249048</th>\n",
       "      <td>Diabetes</td>\n",
       "      <td>High BP</td>\n",
       "      <td>High Chol</td>\n",
       "      <td>25.0</td>\n",
       "      <td>very good</td>\n",
       "      <td>No</td>\n",
       "    </tr>\n",
       "  </tbody>\n",
       "</table>\n",
       "<p>249049 rows × 6 columns</p>\n",
       "</div>"
      ],
      "text/plain": [
       "       Diabetes_012   HighBP      HighChol   BMI    GenHlth DiffWalk\n",
       "0       No Diabetes  High BP     High Chol  40.0       poor      yes\n",
       "1       No Diabetes  No High  No High Chol  25.0       good       No\n",
       "2       No Diabetes  High BP     High Chol  28.0       poor      yes\n",
       "3       No Diabetes  High BP  No High Chol  27.0  very good       No\n",
       "4       No Diabetes  High BP     High Chol  24.0  very good       No\n",
       "...             ...      ...           ...   ...        ...      ...\n",
       "249044  No Diabetes  High BP     High Chol  45.0       good       No\n",
       "249045     Diabetes  High BP     High Chol  18.0       fair      yes\n",
       "249046  No Diabetes  No High  No High Chol  28.0  Excellent       No\n",
       "249047  No Diabetes  High BP  No High Chol  23.0       good       No\n",
       "249048     Diabetes  High BP     High Chol  25.0  very good       No\n",
       "\n",
       "[249049 rows x 6 columns]"
      ]
     },
     "execution_count": 46,
     "metadata": {},
     "output_type": "execute_result"
    }
   ],
   "source": [
    "eda2 = eda2[['Diabetes_012', 'HighBP', 'HighChol', 'BMI', 'GenHlth', 'DiffWalk']]\n",
    "eda2"
   ]
  },
  {
   "cell_type": "code",
   "execution_count": null,
   "id": "89b57ecd",
   "metadata": {},
   "outputs": [],
   "source": []
  },
  {
   "cell_type": "code",
   "execution_count": 47,
   "id": "d4ea410a",
   "metadata": {},
   "outputs": [
    {
     "name": "stdout",
     "output_type": "stream",
     "text": [
      "  Diabetes_012   HighBP   Count\n",
      "0     Diabetes  High BP   26604\n",
      "1     Diabetes  No High    8742\n",
      "2  No Diabetes  High BP   79312\n",
      "3  No Diabetes  No High  134391\n"
     ]
    },
    {
     "data": {
      "image/png": "[encoded data removed]",
      "text/plain": [
       "<Figure size 576x432 with 1 Axes>"
      ]
     },
     "metadata": {
      "needs_background": "light"
     },
     "output_type": "display_data"
    }
   ],
   "source": [
    "#group diabetes status & BP\n",
    "dia_bp = eda2.groupby(['Diabetes_012', 'HighBP']).size().reset_index(name = 'Count')\n",
    "print(dia_bp)\n",
    "\n",
    "#visualize diabetes status ~ BP\n",
    "plt.figure(figsize = (8,6))\n",
    "sns.barplot(x = 'Diabetes_012', y = 'Count', hue = 'HighBP', data = dia_bp, palette=\"rocket\")\n",
    "plt.title(\"Dibaetes Status ~ BP\")\n",
    "plt.show()"
   ]
  },
  {
   "cell_type": "code",
   "execution_count": 48,
   "id": "063c4aca",
   "metadata": {},
   "outputs": [
    {
     "data": {
      "image/png": "[encoded data removed]",
      "text/plain": [
       "<Figure size 576x432 with 1 Axes>"
      ]
     },
     "metadata": {
      "needs_background": "light"
     },
     "output_type": "display_data"
    }
   ],
   "source": [
    "#visualize diabetes status ~ BMI\n",
    "plt.figure(figsize = (8,6))\n",
    "sns.boxplot(data = eda2, x = 'Diabetes_012', y = 'BMI', palette=\"rocket\")\n",
    "plt.title(\"Dibaetes Status ~ BMI\")\n",
    "plt.show()"
   ]
  },
  {
   "cell_type": "code",
   "execution_count": 49,
   "id": "64db867c",
   "metadata": {},
   "outputs": [
    {
     "name": "stdout",
     "output_type": "stream",
     "text": [
      "  Diabetes_012    GenHlth  Count\n",
      "0     Diabetes  Excellent   1140\n",
      "1     Diabetes       fair   9790\n",
      "2     Diabetes       good  13457\n",
      "3     Diabetes       poor   4578\n",
      "4     Diabetes  very good   6381\n",
      "5  No Diabetes  Excellent  43846\n",
      "6  No Diabetes       fair  20755\n",
      "7  No Diabetes       good  60461\n",
      "8  No Diabetes       poor   7152\n",
      "9  No Diabetes  very good  81489\n"
     ]
    },
    {
     "data": {
      "image/png": "[encoded data removed]",
      "text/plain": [
       "<Figure size 576x432 with 1 Axes>"
      ]
     },
     "metadata": {
      "needs_background": "light"
     },
     "output_type": "display_data"
    }
   ],
   "source": [
    "#group diabetes status & general health\n",
    "diab_genhealth = eda2.groupby(['Diabetes_012', 'GenHlth']).size().reset_index(name = 'Count')\n",
    "print(diab_genhealth)\n",
    "\n",
    "#visualize diabetes status ~ general health\n",
    "plt.figure(figsize = (8,6))\n",
    "sns.barplot(x = 'Diabetes_012', y = 'Count', hue = 'GenHlth', data = diab_genhealth, palette=\"rocket\")\n",
    "plt.title(\"Dibaetes Status ~ General Health\")\n",
    "plt.show()"
   ]
  },
  {
   "cell_type": "code",
   "execution_count": 50,
   "id": "9a73954d",
   "metadata": {},
   "outputs": [
    {
     "name": "stdout",
     "output_type": "stream",
     "text": [
      "  Diabetes_012 DiffWalk   Count\n",
      "0     Diabetes       No   22225\n",
      "1     Diabetes      yes   13121\n",
      "2  No Diabetes       No  185434\n",
      "3  No Diabetes      yes   28269\n"
     ]
    },
    {
     "data": {
      "image/png": "[encoded data removed]",
      "text/plain": [
       "<Figure size 576x432 with 1 Axes>"
      ]
     },
     "metadata": {
      "needs_background": "light"
     },
     "output_type": "display_data"
    }
   ],
   "source": [
    "#group diabetes status & difficulty walking\n",
    "dia_walk = eda2.groupby(['Diabetes_012', 'DiffWalk']).size().reset_index(name = 'Count')\n",
    "print(dia_walk)\n",
    "\n",
    "#visualize diabetes status ~ difficulty walking\n",
    "plt.figure(figsize = (8,6))\n",
    "sns.barplot(x = 'Diabetes_012', y = 'Count', hue = 'DiffWalk', data = dia_walk, palette=\"rocket\")\n",
    "plt.title(\"Dibaetes Status ~ Difficulty Walking\")\n",
    "plt.show()"
   ]
  },
  {
   "cell_type": "markdown",
   "id": "6b0ce629",
   "metadata": {},
   "source": [
    "# Use of SMOTE function to balance dataset"
   ]
  },
  {
   "cell_type": "code",
   "execution_count": 51,
   "id": "079c8d4f",
   "metadata": {},
   "outputs": [
    {
     "name": "stderr",
     "output_type": "stream",
     "text": [
      "\r",
      "[Stage 113:=========================================================(6 + 0) / 6]\r",
      "\r",
      "                                                                                \r"
     ]
    }
   ],
   "source": [
    "from sklearn.model_selection import train_test_split\n",
    "X = df2.toPandas().filter(items=['HighBP','HighChol','BMI','GenHlth','DiffWalk'])\n",
    "Y = df2.toPandas().filter(items=['Diabetes_012'])\n",
    "\n",
    "X_train, X_test, Y_train, Y_test = train_test_split(X, Y, test_size=0.1, random_state=0)"
   ]
  },
  {
   "cell_type": "code",
   "execution_count": 52,
   "id": "0d657a42",
   "metadata": {},
   "outputs": [],
   "source": [
    "from imblearn.over_sampling import SMOTE\n",
    "from imblearn.combine import SMOTEENN\n",
    "from collections import Counter\n",
    " \n",
    "sm = SMOTE(random_state=3)\n",
    "x_train_res, y_train_res = sm.fit_resample(X_train, Y_train)"
   ]
  },
  {
   "cell_type": "code",
   "execution_count": 59,
   "id": "78d057f1",
   "metadata": {},
   "outputs": [],
   "source": [
    "import pandas as pd\n",
    "dataframe_1 = pd.DataFrame(x_train_res,columns=['HighBP','HighChol','BMI','GenHlth','DiffWalk'])\n",
    "dataframe_2 = pd.DataFrame(y_train_res, columns = ['Diabetes_012'])\n",
    "result = dataframe_1.combine_first(dataframe_2)\n",
    "smote_1 = spark.createDataFrame(result)"
   ]
  },
  {
   "cell_type": "code",
   "execution_count": 60,
   "id": "7b67bacb",
   "metadata": {},
   "outputs": [
    {
     "name": "stderr",
     "output_type": "stream",
     "text": [
      "21/12/08 17:03:41 WARN TaskSetManager: Stage 128 contains a task of very large size (2684 KiB). The maximum recommended task size is 1000 KiB.\n"
     ]
    },
    {
     "name": "stdout",
     "output_type": "stream",
     "text": [
      "[192322, 192322]\n"
     ]
    },
    {
     "data": {
      "text/plain": [
       "([<matplotlib.axis.XTick at 0x7fbdfcb82970>,\n",
       "  <matplotlib.axis.XTick at 0x7fbdfcb82850>],\n",
       " [Text(0, 0, '0.0'), Text(1, 0, '1.0')])"
      ]
     },
     "execution_count": 60,
     "metadata": {},
     "output_type": "execute_result"
    },
    {
     "data": {
      "image/png": "[encoded data removed]",
      "text/plain": [
       "<Figure size 432x288 with 1 Axes>"
      ]
     },
     "metadata": {
      "needs_background": "light"
     },
     "output_type": "display_data"
    }
   ],
   "source": [
    "import matplotlib.pyplot as plt\n",
    "import numpy as np\n",
    "responses = smote_1.groupBy('Diabetes_012').count().collect()\n",
    "categories = [i[0] for i in responses]\n",
    "counts = [i[1] for i in responses]\n",
    "print(counts)\n",
    "ind = np.array(range(len(categories)))\n",
    "width = 0.35\n",
    "plt.bar (ind, counts, color='purple')\n",
    "plt.ylabel('counts' )\n",
    "plt.title('Diabetes_012')\n",
    "plt.xticks (ind, categories)"
   ]
  },
  {
   "cell_type": "code",
   "execution_count": 62,
   "id": "e222eed4",
   "metadata": {},
   "outputs": [
    {
     "name": "stderr",
     "output_type": "stream",
     "text": [
      "21/12/08 17:03:58 WARN TaskSetManager: Stage 134 contains a task of very large size (2684 KiB). The maximum recommended task size is 1000 KiB.\n"
     ]
    },
    {
     "name": "stdout",
     "output_type": "stream",
     "text": [
      "(384644, 6)\n"
     ]
    },
    {
     "name": "stderr",
     "output_type": "stream",
     "text": [
      "21/12/08 17:03:58 WARN TaskSetManager: Stage 137 contains a task of very large size (2684 KiB). The maximum recommended task size is 1000 KiB.\n"
     ]
    },
    {
     "name": "stdout",
     "output_type": "stream",
     "text": [
      "+------------+------+\n",
      "|Diabetes_012| count|\n",
      "+------------+------+\n",
      "|         0.0|192322|\n",
      "|         1.0|192322|\n",
      "+------------+------+\n",
      "\n"
     ]
    }
   ],
   "source": [
    "print((smote_1.count(),len(imputeDF_1.columns)))\n",
    "smote_1.groupby('Diabetes_012').count().show()"
   ]
  },
  {
   "cell_type": "code",
   "execution_count": 63,
   "id": "2c30227b",
   "metadata": {},
   "outputs": [
    {
     "name": "stdout",
     "output_type": "stream",
     "text": [
      "+----+------------+--------+-------+------+--------+\n",
      "| BMI|Diabetes_012|DiffWalk|GenHlth|HighBP|HighChol|\n",
      "+----+------------+--------+-------+------+--------+\n",
      "|24.0|         0.0|     0.0|    2.0|   1.0|     0.0|\n",
      "|25.0|         0.0|     0.0|    1.0|   0.0|     0.0|\n",
      "|27.0|         0.0|     0.0|    2.0|   0.0|     0.0|\n",
      "|53.0|         0.0|     1.0|    3.0|   1.0|     0.0|\n",
      "|33.0|         0.0|     1.0|    3.0|   1.0|     1.0|\n",
      "|31.0|         0.0|     0.0|    3.0|   1.0|     1.0|\n",
      "|26.0|         0.0|     0.0|    1.0|   0.0|     0.0|\n",
      "|35.0|         0.0|     0.0|    1.0|   0.0|     0.0|\n",
      "|27.0|         0.0|     0.0|    3.0|   0.0|     0.0|\n",
      "|35.0|         1.0|     0.0|    2.0|   1.0|     1.0|\n",
      "|30.0|         0.0|     1.0|    3.0|   1.0|     0.0|\n",
      "|26.0|         0.0|     0.0|    4.0|   1.0|     0.0|\n",
      "|19.0|         0.0|     0.0|    2.0|   0.0|     1.0|\n",
      "|23.0|         0.0|     0.0|    2.0|   0.0|     0.0|\n",
      "|46.0|         0.0|     0.0|    3.0|   1.0|     0.0|\n",
      "|27.0|         0.0|     0.0|    1.0|   0.0|     0.0|\n",
      "|32.0|         0.0|     0.0|    2.0|   0.0|     0.0|\n",
      "|20.0|         0.0|     0.0|    2.0|   0.0|     0.0|\n",
      "|33.0|         0.0|     0.0|    1.0|   0.0|     0.0|\n",
      "|37.0|         0.0|     0.0|    4.0|   1.0|     0.0|\n",
      "+----+------------+--------+-------+------+--------+\n",
      "only showing top 20 rows\n",
      "\n"
     ]
    },
    {
     "name": "stderr",
     "output_type": "stream",
     "text": [
      "21/12/08 17:04:03 WARN TaskSetManager: Stage 140 contains a task of very large size (2684 KiB). The maximum recommended task size is 1000 KiB.\n"
     ]
    }
   ],
   "source": [
    "smote_1.show()"
   ]
  },
  {
   "cell_type": "code",
   "execution_count": 64,
   "id": "65268e01",
   "metadata": {},
   "outputs": [
    {
     "name": "stderr",
     "output_type": "stream",
     "text": [
      "21/12/08 17:04:35 WARN TaskSetManager: Stage 141 contains a task of very large size (2684 KiB). The maximum recommended task size is 1000 KiB.\n"
     ]
    },
    {
     "name": "stdout",
     "output_type": "stream",
     "text": [
      "+------------+------+\n",
      "|Diabetes_012| count|\n",
      "+------------+------+\n",
      "|         0.0|192322|\n",
      "|         1.0|192322|\n",
      "+------------+------+\n",
      "\n"
     ]
    }
   ],
   "source": [
    "from pyspark.ml.feature import VectorAssembler,MinMaxScaler\n",
    "assembler_smote = VectorAssembler(inputCols=['HighBP','HighChol','BMI','GenHlth','DiffWalk'], outputCol='features')\n",
    "output_data_smote = assembler_smote.transform(smote_1)\n",
    "output_data_smote.groupby('Diabetes_012').count().show()"
   ]
  },
  {
   "cell_type": "code",
   "execution_count": 65,
   "id": "5fdc5815",
   "metadata": {},
   "outputs": [
    {
     "name": "stderr",
     "output_type": "stream",
     "text": [
      "21/12/08 17:05:01 WARN TaskSetManager: Stage 144 contains a task of very large size (2684 KiB). The maximum recommended task size is 1000 KiB.\n",
      "                                                                                \r"
     ]
    },
    {
     "name": "stdout",
     "output_type": "stream",
     "text": [
      "+----+------------+--------+-------+------+--------+--------------------+--------------------+\n",
      "| BMI|Diabetes_012|DiffWalk|GenHlth|HighBP|HighChol|            features|              scaled|\n",
      "+----+------------+--------+-------+------+--------+--------------------+--------------------+\n",
      "|24.0|         0.0|     0.0|    2.0|   1.0|     0.0|[1.0,0.0,24.0,2.0...|[1.0,0.0,0.139534...|\n",
      "|25.0|         0.0|     0.0|    1.0|   0.0|     0.0|(5,[2,3],[25.0,1.0])|(5,[2],[0.1511627...|\n",
      "|27.0|         0.0|     0.0|    2.0|   0.0|     0.0|(5,[2,3],[27.0,2.0])|(5,[2,3],[0.17441...|\n",
      "|53.0|         0.0|     1.0|    3.0|   1.0|     0.0|[1.0,0.0,53.0,3.0...|[1.0,0.0,0.476744...|\n",
      "|33.0|         0.0|     1.0|    3.0|   1.0|     1.0|[1.0,1.0,33.0,3.0...|[1.0,1.0,0.244186...|\n",
      "+----+------------+--------+-------+------+--------+--------------------+--------------------+\n",
      "only showing top 5 rows\n",
      "\n"
     ]
    },
    {
     "name": "stderr",
     "output_type": "stream",
     "text": [
      "21/12/08 17:05:03 WARN TaskSetManager: Stage 147 contains a task of very large size (2684 KiB). The maximum recommended task size is 1000 KiB.\n"
     ]
    }
   ],
   "source": [
    "minmax_scaler = MinMaxScaler(inputCol=\"features\", outputCol=\"scaled\")\n",
    "output1_data_smote = minmax_scaler.fit(output_data_smote).transform(output_data_smote)\n",
    "output1_data_smote.show(5)"
   ]
  },
  {
   "cell_type": "code",
   "execution_count": 66,
   "id": "993dc55b",
   "metadata": {},
   "outputs": [
    {
     "name": "stdout",
     "output_type": "stream",
     "text": [
      "+--------------------+------------+\n",
      "|              scaled|Diabetes_012|\n",
      "+--------------------+------------+\n",
      "|[1.0,0.0,0.139534...|         0.0|\n",
      "|(5,[2],[0.1511627...|         0.0|\n",
      "|(5,[2,3],[0.17441...|         0.0|\n",
      "|[1.0,0.0,0.476744...|         0.0|\n",
      "|[1.0,1.0,0.244186...|         0.0|\n",
      "|[1.0,1.0,0.220930...|         0.0|\n",
      "|(5,[2],[0.1627906...|         0.0|\n",
      "|(5,[2],[0.2674418...|         0.0|\n",
      "|(5,[2,3],[0.17441...|         0.0|\n",
      "|[1.0,1.0,0.267441...|         1.0|\n",
      "|[1.0,0.0,0.209302...|         0.0|\n",
      "|[1.0,0.0,0.162790...|         0.0|\n",
      "|[0.0,1.0,0.081395...|         0.0|\n",
      "|(5,[2,3],[0.12790...|         0.0|\n",
      "|[1.0,0.0,0.395348...|         0.0|\n",
      "|(5,[2],[0.1744186...|         0.0|\n",
      "|(5,[2,3],[0.23255...|         0.0|\n",
      "|(5,[2,3],[0.09302...|         0.0|\n",
      "|(5,[2],[0.2441860...|         0.0|\n",
      "|[1.0,0.0,0.290697...|         0.0|\n",
      "+--------------------+------------+\n",
      "only showing top 20 rows\n",
      "\n"
     ]
    },
    {
     "name": "stderr",
     "output_type": "stream",
     "text": [
      "21/12/08 17:05:20 WARN TaskSetManager: Stage 148 contains a task of very large size (2684 KiB). The maximum recommended task size is 1000 KiB.\n"
     ]
    }
   ],
   "source": [
    "# Load training data\n",
    "final_data = output1_data_smote.select('scaled','Diabetes_012')\n",
    "final_data.show()"
   ]
  },
  {
   "cell_type": "markdown",
   "id": "8f70f789",
   "metadata": {},
   "source": [
    "# Logistic Regression"
   ]
  },
  {
   "cell_type": "code",
   "execution_count": 74,
   "id": "ade22810",
   "metadata": {},
   "outputs": [
    {
     "name": "stderr",
     "output_type": "stream",
     "text": [
      "21/12/08 17:29:15 WARN TaskSetManager: Stage 1226 contains a task of very large size (2684 KiB). The maximum recommended task size is 1000 KiB.\n",
      "21/12/08 17:29:17 WARN TaskSetManager: Stage 1228 contains a task of very large size (2684 KiB). The maximum recommended task size is 1000 KiB.\n",
      "21/12/08 17:29:17 WARN TaskSetManager: Stage 1230 contains a task of very large size (2684 KiB). The maximum recommended task size is 1000 KiB.\n",
      "21/12/08 17:29:18 WARN TaskSetManager: Stage 1232 contains a task of very large size (2684 KiB). The maximum recommended task size is 1000 KiB.\n",
      "21/12/08 17:29:18 WARN TaskSetManager: Stage 1234 contains a task of very large size (2684 KiB). The maximum recommended task size is 1000 KiB.\n",
      "21/12/08 17:29:18 WARN TaskSetManager: Stage 1236 contains a task of very large size (2684 KiB). The maximum recommended task size is 1000 KiB.\n",
      "21/12/08 17:29:18 WARN TaskSetManager: Stage 1238 contains a task of very large size (2684 KiB). The maximum recommended task size is 1000 KiB.\n",
      "21/12/08 17:29:18 WARN TaskSetManager: Stage 1240 contains a task of very large size (2684 KiB). The maximum recommended task size is 1000 KiB.\n",
      "21/12/08 17:29:18 WARN TaskSetManager: Stage 1242 contains a task of very large size (2684 KiB). The maximum recommended task size is 1000 KiB.\n",
      "21/12/08 17:29:18 WARN TaskSetManager: Stage 1244 contains a task of very large size (2684 KiB). The maximum recommended task size is 1000 KiB.\n",
      "21/12/08 17:29:18 WARN TaskSetManager: Stage 1246 contains a task of very large size (2684 KiB). The maximum recommended task size is 1000 KiB.\n",
      "/Users/rishisingh/.local/share/virtualenvs/spark_test-2CXUZLP8/lib/python3.9/site-packages/pyspark/sql/context.py:125: FutureWarning: Deprecated in 3.0.0. Use SparkSession.builder.getOrCreate() instead.\n",
      "  warnings.warn(\n",
      "21/12/08 17:29:19 WARN TaskSetManager: Stage 1248 contains a task of very large size (2684 KiB). The maximum recommended task size is 1000 KiB.\n",
      "                                                                                \r"
     ]
    },
    {
     "name": "stdout",
     "output_type": "stream",
     "text": [
      "+-------+------------------+------------------+\n",
      "|summary|      Diabetes_012|        prediction|\n",
      "+-------+------------------+------------------+\n",
      "|  count|            269108|            269108|\n",
      "|   mean|0.5000222958812075|0.5102969811376845|\n",
      "| stddev|0.5000009285005321|0.4998948897357867|\n",
      "|    min|               0.0|               0.0|\n",
      "|    max|               1.0|               1.0|\n",
      "+-------+------------------+------------------+\n",
      "\n"
     ]
    },
    {
     "name": "stderr",
     "output_type": "stream",
     "text": [
      "21/12/08 17:29:23 WARN TaskSetManager: Stage 1251 contains a task of very large size (2684 KiB). The maximum recommended task size is 1000 KiB.\n"
     ]
    },
    {
     "name": "stdout",
     "output_type": "stream",
     "text": [
      "+--------------------+------------+--------------------+--------------------+----------+\n",
      "|              scaled|Diabetes_012|       rawPrediction|         probability|prediction|\n",
      "+--------------------+------------+--------------------+--------------------+----------+\n",
      "|(5,[0,2],[1.0,0.0...|         0.0|[1.99903146435677...|[0.88069535043736...|       0.0|\n",
      "|(5,[0,2],[1.0,0.0...|         0.0|[1.93711498534509...|[0.87403485195260...|       0.0|\n",
      "|(5,[0,2],[1.0,0.0...|         0.0|[1.81328202732171...|[0.85975806930599...|       0.0|\n",
      "|(5,[0,2],[1.0,0.0...|         0.0|[1.75136554831003...|[0.85212495475375...|       0.0|\n",
      "|(5,[0,2],[1.0,0.0...|         0.0|[1.75136554831003...|[0.85212495475375...|       0.0|\n",
      "|(5,[0,2],[1.0,0.0...|         0.0|[1.68944906929834...|[0.84415169338868...|       0.0|\n",
      "|(5,[0,2],[1.0,0.0...|         0.0|[1.68944906929834...|[0.84415169338868...|       0.0|\n",
      "|(5,[0,2],[1.0,0.0...|         0.0|[1.68944906929834...|[0.84415169338868...|       0.0|\n",
      "|(5,[0,2],[1.0,0.0...|         0.0|[1.68944906929834...|[0.84415169338868...|       0.0|\n",
      "|(5,[0,2],[1.0,0.0...|         0.0|[1.68944906929834...|[0.84415169338868...|       0.0|\n",
      "|(5,[0,2],[1.0,0.0...|         0.0|[1.68944906929834...|[0.84415169338868...|       0.0|\n",
      "|(5,[0,2],[1.0,0.1...|         0.0|[1.62753259028665...|[0.83583134795438...|       0.0|\n",
      "|(5,[0,2],[1.0,0.1...|         0.0|[1.62753259028665...|[0.83583134795438...|       0.0|\n",
      "|(5,[0,2],[1.0,0.1...|         0.0|[1.62753259028665...|[0.83583134795438...|       0.0|\n",
      "|(5,[0,2],[1.0,0.1...|         0.0|[1.62753259028665...|[0.83583134795438...|       0.0|\n",
      "|(5,[0,2],[1.0,0.1...|         0.0|[1.62753259028665...|[0.83583134795438...|       0.0|\n",
      "|(5,[0,2],[1.0,0.1...|         0.0|[1.62753259028665...|[0.83583134795438...|       0.0|\n",
      "|(5,[0,2],[1.0,0.1...|         0.0|[1.62753259028665...|[0.83583134795438...|       0.0|\n",
      "|(5,[0,2],[1.0,0.1...|         0.0|[1.62753259028665...|[0.83583134795438...|       0.0|\n",
      "|(5,[0,2],[1.0,0.1...|         0.0|[1.56561611127497...|[0.82715775193620...|       0.0|\n",
      "+--------------------+------------+--------------------+--------------------+----------+\n",
      "only showing top 20 rows\n",
      "\n"
     ]
    },
    {
     "name": "stderr",
     "output_type": "stream",
     "text": [
      "21/12/08 17:29:23 WARN TaskSetManager: Stage 1252 contains a task of very large size (2684 KiB). The maximum recommended task size is 1000 KiB.\n",
      "21/12/08 17:29:24 WARN TaskSetManager: Stage 1253 contains a task of very large size (2684 KiB). The maximum recommended task size is 1000 KiB.\n",
      "                                                                                \r"
     ]
    },
    {
     "name": "stdout",
     "output_type": "stream",
     "text": [
      "              precision    recall  f1-score   support\n",
      "\n",
      "         0.0       0.74      0.73      0.73     57774\n",
      "         1.0       0.73      0.74      0.74     57762\n",
      "\n",
      "    accuracy                           0.73    115536\n",
      "   macro avg       0.73      0.73      0.73    115536\n",
      "weighted avg       0.73      0.73      0.73    115536\n",
      "\n"
     ]
    },
    {
     "data": {
      "image/png": "[encoded data removed]",
      "text/plain": [
       "<Figure size 576x432 with 2 Axes>"
      ]
     },
     "metadata": {
      "needs_background": "light"
     },
     "output_type": "display_data"
    }
   ],
   "source": [
    "from pyspark.ml.classification import LogisticRegression\n",
    "from pyspark.ml.evaluation import BinaryClassificationEvaluator\n",
    "from sklearn.metrics import classification_report, confusion_matrix\n",
    "train , test = final_data.randomSplit([0.7,0.3])\n",
    "models = LogisticRegression(labelCol='Diabetes_012',featuresCol=\"scaled\")\n",
    "model = models.fit(train)\n",
    "summary = model.summary\n",
    "summary.predictions.describe().show()\n",
    "predictions = model.evaluate(test)\n",
    "predictions.predictions.show(20)\n",
    "#evaluator = BinaryClassificationEvaluator(rawPredictionCol=\"rawPrediction\", labelCol=\"Diabetes_012\")\n",
    "#evaluator.evaluate(model.transform(test))\n",
    "\n",
    "y_true = predictions.predictions.select(['Diabetes_012']).collect()\n",
    "y_pred = predictions.predictions.select(['prediction']).collect()\n",
    "\n",
    "print(classification_report(y_true, y_pred))\n",
    "plt.figure(figsize = (8,6))\n",
    "sns.heatmap(confusion_matrix(y_true, y_pred), annot = True, fmt = \".0f\")\n",
    "plt.title(\"Confusion Matrix\")\n",
    "plt.xlabel(\"Prediction\")\n",
    "plt.ylabel(\"Actual\")\n",
    "plt.show()"
   ]
  },
  {
   "cell_type": "markdown",
   "id": "06f36afe",
   "metadata": {},
   "source": [
    "# Random Forest Classifer"
   ]
  },
  {
   "cell_type": "code",
   "execution_count": 75,
   "id": "1a991aa9",
   "metadata": {},
   "outputs": [
    {
     "name": "stderr",
     "output_type": "stream",
     "text": [
      "21/12/08 17:29:30 WARN TaskSetManager: Stage 1254 contains a task of very large size (2684 KiB). The maximum recommended task size is 1000 KiB.\n",
      "21/12/08 17:29:31 WARN TaskSetManager: Stage 1257 contains a task of very large size (2684 KiB). The maximum recommended task size is 1000 KiB.\n",
      "21/12/08 17:29:32 WARN TaskSetManager: Stage 1258 contains a task of very large size (2684 KiB). The maximum recommended task size is 1000 KiB.\n",
      "21/12/08 17:29:33 WARN TaskSetManager: Stage 1259 contains a task of very large size (2684 KiB). The maximum recommended task size is 1000 KiB.\n",
      "21/12/08 17:29:34 WARN TaskSetManager: Stage 1261 contains a task of very large size (2684 KiB). The maximum recommended task size is 1000 KiB.\n",
      "21/12/08 17:29:36 WARN TaskSetManager: Stage 1263 contains a task of very large size (2684 KiB). The maximum recommended task size is 1000 KiB.\n",
      "21/12/08 17:29:36 WARN TaskSetManager: Stage 1265 contains a task of very large size (2684 KiB). The maximum recommended task size is 1000 KiB.\n",
      "21/12/08 17:29:36 WARN TaskSetManager: Stage 1267 contains a task of very large size (2684 KiB). The maximum recommended task size is 1000 KiB.\n",
      "21/12/08 17:29:37 WARN TaskSetManager: Stage 1269 contains a task of very large size (2684 KiB). The maximum recommended task size is 1000 KiB.\n",
      "/Users/rishisingh/.local/share/virtualenvs/spark_test-2CXUZLP8/lib/python3.9/site-packages/pyspark/sql/context.py:125: FutureWarning: Deprecated in 3.0.0. Use SparkSession.builder.getOrCreate() instead.\n",
      "  warnings.warn(\n",
      "21/12/08 17:29:38 WARN TaskSetManager: Stage 1271 contains a task of very large size (2684 KiB). The maximum recommended task size is 1000 KiB.\n",
      "                                                                                \r"
     ]
    },
    {
     "name": "stdout",
     "output_type": "stream",
     "text": [
      "+-------+------------------+-------------------+\n",
      "|summary|      Diabetes_012|         prediction|\n",
      "+-------+------------------+-------------------+\n",
      "|  count|            269205|             269205|\n",
      "|   mean|0.5005441949443733| 0.5359187236492635|\n",
      "| stddev|0.5000006325141266|0.49870910274697416|\n",
      "|    min|               0.0|                0.0|\n",
      "|    max|               1.0|                1.0|\n",
      "+-------+------------------+-------------------+\n",
      "\n"
     ]
    },
    {
     "name": "stderr",
     "output_type": "stream",
     "text": [
      "21/12/08 17:29:40 WARN TaskSetManager: Stage 1274 contains a task of very large size (2684 KiB). The maximum recommended task size is 1000 KiB.\n"
     ]
    },
    {
     "name": "stdout",
     "output_type": "stream",
     "text": [
      "+--------------------+------------+--------------------+--------------------+----------+\n",
      "|              scaled|Diabetes_012|       rawPrediction|         probability|prediction|\n",
      "+--------------------+------------+--------------------+--------------------+----------+\n",
      "|(5,[0,2],[1.0,0.0...|         0.0|[13.1508304848457...|[0.65754152424228...|       0.0|\n",
      "|(5,[0,2],[1.0,0.0...|         0.0|[13.1508304848457...|[0.65754152424228...|       0.0|\n",
      "|(5,[0,2],[1.0,0.0...|         0.0|[13.1508304848457...|[0.65754152424228...|       0.0|\n",
      "|(5,[0,2],[1.0,0.0...|         0.0|[13.1508304848457...|[0.65754152424228...|       0.0|\n",
      "|(5,[0,2],[1.0,0.1...|         0.0|[13.1508304848457...|[0.65754152424228...|       0.0|\n",
      "|(5,[0,2],[1.0,0.1...|         0.0|[13.1508304848457...|[0.65754152424228...|       0.0|\n",
      "|(5,[0,2],[1.0,0.1...|         0.0|[13.1508304848457...|[0.65754152424228...|       0.0|\n",
      "|(5,[0,2],[1.0,0.1...|         0.0|[13.1508304848457...|[0.65754152424228...|       0.0|\n",
      "|(5,[0,2],[1.0,0.1...|         0.0|[13.1508304848457...|[0.65754152424228...|       0.0|\n",
      "|(5,[0,2],[1.0,0.1...|         0.0|[13.1508304848457...|[0.65754152424228...|       0.0|\n",
      "|(5,[0,2],[1.0,0.1...|         0.0|[13.1508304848457...|[0.65754152424228...|       0.0|\n",
      "|(5,[0,2],[1.0,0.1...|         0.0|[13.1508304848457...|[0.65754152424228...|       0.0|\n",
      "|(5,[0,2],[1.0,0.1...|         0.0|[13.1508304848457...|[0.65754152424228...|       0.0|\n",
      "|(5,[0,2],[1.0,0.1...|         0.0|[13.1508304848457...|[0.65754152424228...|       0.0|\n",
      "|(5,[0,2],[1.0,0.1...|         0.0|[13.1508304848457...|[0.65754152424228...|       0.0|\n",
      "|(5,[0,2],[1.0,0.1...|         0.0|[13.1508304848457...|[0.65754152424228...|       0.0|\n",
      "|(5,[0,2],[1.0,0.1...|         0.0|[13.1508304848457...|[0.65754152424228...|       0.0|\n",
      "|(5,[0,2],[1.0,0.1...|         0.0|[13.1508304848457...|[0.65754152424228...|       0.0|\n",
      "|(5,[0,2],[1.0,0.1...|         0.0|[13.1508304848457...|[0.65754152424228...|       0.0|\n",
      "|(5,[0,2],[1.0,0.1...|         0.0|[13.1508304848457...|[0.65754152424228...|       0.0|\n",
      "+--------------------+------------+--------------------+--------------------+----------+\n",
      "only showing top 20 rows\n",
      "\n"
     ]
    },
    {
     "name": "stderr",
     "output_type": "stream",
     "text": [
      "21/12/08 17:29:41 WARN TaskSetManager: Stage 1275 contains a task of very large size (2684 KiB). The maximum recommended task size is 1000 KiB.\n",
      "21/12/08 17:29:42 WARN TaskSetManager: Stage 1276 contains a task of very large size (2684 KiB). The maximum recommended task size is 1000 KiB.\n",
      "                                                                                \r"
     ]
    },
    {
     "name": "stdout",
     "output_type": "stream",
     "text": [
      "              precision    recall  f1-score   support\n",
      "\n",
      "         0.0       0.75      0.70      0.73     57866\n",
      "         1.0       0.72      0.77      0.74     57573\n",
      "\n",
      "    accuracy                           0.73    115439\n",
      "   macro avg       0.74      0.74      0.73    115439\n",
      "weighted avg       0.74      0.73      0.73    115439\n",
      "\n"
     ]
    },
    {
     "data": {
      "image/png": "[encoded data removed]",
      "text/plain": [
       "<Figure size 576x432 with 2 Axes>"
      ]
     },
     "metadata": {
      "needs_background": "light"
     },
     "output_type": "display_data"
    }
   ],
   "source": [
    "from pyspark.ml.classification import RandomForestClassifier\n",
    "\n",
    "train , test = final_data.randomSplit([0.7,0.3])\n",
    "model_rf = RandomForestClassifier(labelCol='Diabetes_012',featuresCol=\"scaled\")\n",
    "model_rf = model_rf.fit(train)\n",
    "summary = model_rf.summary\n",
    "summary.predictions.describe().show()\n",
    "predictions = model_rf.evaluate(test)\n",
    "predictions.predictions.show(20)\n",
    "#evaluator = BinaryClassificationEvaluator(rawPredictionCol=\"rawPrediction\", labelCol=\"Diabetes_012\")\n",
    "#evaluator.evaluate(model.transform(test))\n",
    "\n",
    "y_true = predictions.predictions.select(['Diabetes_012']).collect()\n",
    "y_pred = predictions.predictions.select(['prediction']).collect()\n",
    "\n",
    "print(classification_report(y_true, y_pred))\n",
    "plt.figure(figsize = (8,6))\n",
    "sns.heatmap(confusion_matrix(y_true, y_pred), annot = True, fmt = \".0f\")\n",
    "plt.title(\"Confusion Matrix\")\n",
    "plt.xlabel(\"Prediction\")\n",
    "plt.ylabel(\"Actual\")\n",
    "plt.show()"
   ]
  },
  {
   "cell_type": "markdown",
   "id": "99b6a6eb",
   "metadata": {},
   "source": [
    "# Gradient Boosting Tree"
   ]
  },
  {
   "cell_type": "code",
   "execution_count": 73,
   "id": "20b2694e",
   "metadata": {},
   "outputs": [
    {
     "name": "stderr",
     "output_type": "stream",
     "text": [
      "21/12/08 17:28:47 WARN TaskSetManager: Stage 1019 contains a task of very large size (2684 KiB). The maximum recommended task size is 1000 KiB.\n",
      "21/12/08 17:28:47 WARN TaskSetManager: Stage 1020 contains a task of very large size (2684 KiB). The maximum recommended task size is 1000 KiB.\n",
      "21/12/08 17:28:48 WARN TaskSetManager: Stage 1021 contains a task of very large size (2684 KiB). The maximum recommended task size is 1000 KiB.\n",
      "21/12/08 17:28:50 WARN TaskSetManager: Stage 1023 contains a task of very large size (2684 KiB). The maximum recommended task size is 1000 KiB.\n",
      "21/12/08 17:28:51 WARN TaskSetManager: Stage 1025 contains a task of very large size (2684 KiB). The maximum recommended task size is 1000 KiB.\n",
      "21/12/08 17:28:51 WARN TaskSetManager: Stage 1027 contains a task of very large size (2684 KiB). The maximum recommended task size is 1000 KiB.\n",
      "21/12/08 17:28:51 WARN TaskSetManager: Stage 1029 contains a task of very large size (2684 KiB). The maximum recommended task size is 1000 KiB.\n",
      "21/12/08 17:28:52 WARN TaskSetManager: Stage 1031 contains a task of very large size (2684 KiB). The maximum recommended task size is 1000 KiB.\n",
      "21/12/08 17:28:52 WARN TaskSetManager: Stage 1033 contains a task of very large size (2684 KiB). The maximum recommended task size is 1000 KiB.\n",
      "21/12/08 17:28:52 WARN TaskSetManager: Stage 1035 contains a task of very large size (2684 KiB). The maximum recommended task size is 1000 KiB.\n",
      "21/12/08 17:28:52 WARN TaskSetManager: Stage 1037 contains a task of very large size (2684 KiB). The maximum recommended task size is 1000 KiB.\n",
      "21/12/08 17:28:52 WARN TaskSetManager: Stage 1039 contains a task of very large size (2684 KiB). The maximum recommended task size is 1000 KiB.\n",
      "21/12/08 17:28:52 WARN TaskSetManager: Stage 1041 contains a task of very large size (2684 KiB). The maximum recommended task size is 1000 KiB.\n",
      "21/12/08 17:28:52 WARN TaskSetManager: Stage 1043 contains a task of very large size (2684 KiB). The maximum recommended task size is 1000 KiB.\n",
      "21/12/08 17:28:53 WARN TaskSetManager: Stage 1045 contains a task of very large size (2684 KiB). The maximum recommended task size is 1000 KiB.\n",
      "21/12/08 17:28:53 WARN TaskSetManager: Stage 1047 contains a task of very large size (2684 KiB). The maximum recommended task size is 1000 KiB.\n",
      "21/12/08 17:28:53 WARN TaskSetManager: Stage 1049 contains a task of very large size (2684 KiB). The maximum recommended task size is 1000 KiB.\n",
      "21/12/08 17:28:53 WARN TaskSetManager: Stage 1051 contains a task of very large size (2684 KiB). The maximum recommended task size is 1000 KiB.\n",
      "21/12/08 17:28:53 WARN TaskSetManager: Stage 1053 contains a task of very large size (2684 KiB). The maximum recommended task size is 1000 KiB.\n",
      "21/12/08 17:28:53 WARN TaskSetManager: Stage 1055 contains a task of very large size (2684 KiB). The maximum recommended task size is 1000 KiB.\n",
      "21/12/08 17:28:53 WARN TaskSetManager: Stage 1057 contains a task of very large size (2684 KiB). The maximum recommended task size is 1000 KiB.\n",
      "21/12/08 17:28:53 WARN TaskSetManager: Stage 1059 contains a task of very large size (2684 KiB). The maximum recommended task size is 1000 KiB.\n",
      "21/12/08 17:28:54 WARN TaskSetManager: Stage 1061 contains a task of very large size (2684 KiB). The maximum recommended task size is 1000 KiB.\n",
      "21/12/08 17:28:54 WARN TaskSetManager: Stage 1063 contains a task of very large size (2684 KiB). The maximum recommended task size is 1000 KiB.\n",
      "21/12/08 17:28:55 WARN TaskSetManager: Stage 1065 contains a task of very large size (2684 KiB). The maximum recommended task size is 1000 KiB.\n",
      "21/12/08 17:28:55 WARN TaskSetManager: Stage 1067 contains a task of very large size (2684 KiB). The maximum recommended task size is 1000 KiB.\n",
      "21/12/08 17:28:55 WARN TaskSetManager: Stage 1069 contains a task of very large size (2684 KiB). The maximum recommended task size is 1000 KiB.\n",
      "21/12/08 17:28:55 WARN TaskSetManager: Stage 1071 contains a task of very large size (2684 KiB). The maximum recommended task size is 1000 KiB.\n",
      "21/12/08 17:28:55 WARN TaskSetManager: Stage 1073 contains a task of very large size (2684 KiB). The maximum recommended task size is 1000 KiB.\n",
      "21/12/08 17:28:55 WARN TaskSetManager: Stage 1075 contains a task of very large size (2684 KiB). The maximum recommended task size is 1000 KiB.\n",
      "21/12/08 17:28:55 WARN TaskSetManager: Stage 1077 contains a task of very large size (2684 KiB). The maximum recommended task size is 1000 KiB.\n",
      "21/12/08 17:28:55 WARN TaskSetManager: Stage 1079 contains a task of very large size (2684 KiB). The maximum recommended task size is 1000 KiB.\n",
      "21/12/08 17:28:55 WARN TaskSetManager: Stage 1081 contains a task of very large size (2684 KiB). The maximum recommended task size is 1000 KiB.\n",
      "21/12/08 17:28:56 WARN TaskSetManager: Stage 1083 contains a task of very large size (2685 KiB). The maximum recommended task size is 1000 KiB.\n",
      "21/12/08 17:28:56 WARN TaskSetManager: Stage 1085 contains a task of very large size (2685 KiB). The maximum recommended task size is 1000 KiB.\n",
      "21/12/08 17:28:56 WARN TaskSetManager: Stage 1087 contains a task of very large size (2685 KiB). The maximum recommended task size is 1000 KiB.\n",
      "21/12/08 17:28:56 WARN TaskSetManager: Stage 1089 contains a task of very large size (2685 KiB). The maximum recommended task size is 1000 KiB.\n",
      "21/12/08 17:28:56 WARN TaskSetManager: Stage 1091 contains a task of very large size (2685 KiB). The maximum recommended task size is 1000 KiB.\n",
      "21/12/08 17:28:56 WARN TaskSetManager: Stage 1093 contains a task of very large size (2685 KiB). The maximum recommended task size is 1000 KiB.\n",
      "21/12/08 17:28:56 WARN TaskSetManager: Stage 1095 contains a task of very large size (2685 KiB). The maximum recommended task size is 1000 KiB.\n",
      "21/12/08 17:28:56 WARN TaskSetManager: Stage 1097 contains a task of very large size (2685 KiB). The maximum recommended task size is 1000 KiB.\n",
      "21/12/08 17:28:57 WARN TaskSetManager: Stage 1099 contains a task of very large size (2685 KiB). The maximum recommended task size is 1000 KiB.\n",
      "21/12/08 17:28:57 WARN TaskSetManager: Stage 1101 contains a task of very large size (2685 KiB). The maximum recommended task size is 1000 KiB.\n",
      "21/12/08 17:28:57 WARN TaskSetManager: Stage 1103 contains a task of very large size (2685 KiB). The maximum recommended task size is 1000 KiB.\n",
      "21/12/08 17:28:57 WARN TaskSetManager: Stage 1105 contains a task of very large size (2685 KiB). The maximum recommended task size is 1000 KiB.\n",
      "21/12/08 17:28:57 WARN TaskSetManager: Stage 1107 contains a task of very large size (2685 KiB). The maximum recommended task size is 1000 KiB.\n",
      "21/12/08 17:28:57 WARN TaskSetManager: Stage 1109 contains a task of very large size (2685 KiB). The maximum recommended task size is 1000 KiB.\n",
      "21/12/08 17:28:57 WARN TaskSetManager: Stage 1111 contains a task of very large size (2685 KiB). The maximum recommended task size is 1000 KiB.\n",
      "21/12/08 17:28:57 WARN TaskSetManager: Stage 1113 contains a task of very large size (2685 KiB). The maximum recommended task size is 1000 KiB.\n",
      "21/12/08 17:28:58 WARN TaskSetManager: Stage 1115 contains a task of very large size (2685 KiB). The maximum recommended task size is 1000 KiB.\n",
      "21/12/08 17:28:58 WARN TaskSetManager: Stage 1117 contains a task of very large size (2685 KiB). The maximum recommended task size is 1000 KiB.\n",
      "21/12/08 17:28:58 WARN TaskSetManager: Stage 1119 contains a task of very large size (2685 KiB). The maximum recommended task size is 1000 KiB.\n",
      "21/12/08 17:28:58 WARN TaskSetManager: Stage 1121 contains a task of very large size (2685 KiB). The maximum recommended task size is 1000 KiB.\n",
      "21/12/08 17:28:58 WARN TaskSetManager: Stage 1123 contains a task of very large size (2685 KiB). The maximum recommended task size is 1000 KiB.\n",
      "21/12/08 17:28:58 WARN TaskSetManager: Stage 1125 contains a task of very large size (2685 KiB). The maximum recommended task size is 1000 KiB.\n",
      "21/12/08 17:28:58 WARN TaskSetManager: Stage 1127 contains a task of very large size (2685 KiB). The maximum recommended task size is 1000 KiB.\n",
      "21/12/08 17:28:59 WARN TaskSetManager: Stage 1129 contains a task of very large size (2685 KiB). The maximum recommended task size is 1000 KiB.\n",
      "21/12/08 17:28:59 WARN TaskSetManager: Stage 1131 contains a task of very large size (2685 KiB). The maximum recommended task size is 1000 KiB.\n"
     ]
    },
    {
     "name": "stderr",
     "output_type": "stream",
     "text": [
      "21/12/08 17:28:59 WARN TaskSetManager: Stage 1133 contains a task of very large size (2685 KiB). The maximum recommended task size is 1000 KiB.\n",
      "21/12/08 17:28:59 WARN TaskSetManager: Stage 1135 contains a task of very large size (2685 KiB). The maximum recommended task size is 1000 KiB.\n",
      "21/12/08 17:28:59 WARN TaskSetManager: Stage 1137 contains a task of very large size (2685 KiB). The maximum recommended task size is 1000 KiB.\n",
      "21/12/08 17:28:59 WARN TaskSetManager: Stage 1139 contains a task of very large size (2685 KiB). The maximum recommended task size is 1000 KiB.\n",
      "21/12/08 17:28:59 WARN TaskSetManager: Stage 1141 contains a task of very large size (2685 KiB). The maximum recommended task size is 1000 KiB.\n",
      "21/12/08 17:28:59 WARN TaskSetManager: Stage 1143 contains a task of very large size (2685 KiB). The maximum recommended task size is 1000 KiB.\n",
      "21/12/08 17:28:59 WARN TaskSetManager: Stage 1145 contains a task of very large size (2685 KiB). The maximum recommended task size is 1000 KiB.\n",
      "21/12/08 17:29:00 WARN TaskSetManager: Stage 1147 contains a task of very large size (2685 KiB). The maximum recommended task size is 1000 KiB.\n",
      "21/12/08 17:29:00 WARN TaskSetManager: Stage 1149 contains a task of very large size (2685 KiB). The maximum recommended task size is 1000 KiB.\n",
      "21/12/08 17:29:00 WARN TaskSetManager: Stage 1151 contains a task of very large size (2685 KiB). The maximum recommended task size is 1000 KiB.\n",
      "21/12/08 17:29:00 WARN TaskSetManager: Stage 1153 contains a task of very large size (2685 KiB). The maximum recommended task size is 1000 KiB.\n",
      "21/12/08 17:29:01 WARN TaskSetManager: Stage 1155 contains a task of very large size (2685 KiB). The maximum recommended task size is 1000 KiB.\n",
      "21/12/08 17:29:01 WARN TaskSetManager: Stage 1157 contains a task of very large size (2685 KiB). The maximum recommended task size is 1000 KiB.\n",
      "21/12/08 17:29:01 WARN TaskSetManager: Stage 1159 contains a task of very large size (2685 KiB). The maximum recommended task size is 1000 KiB.\n",
      "21/12/08 17:29:01 WARN TaskSetManager: Stage 1161 contains a task of very large size (2685 KiB). The maximum recommended task size is 1000 KiB.\n",
      "21/12/08 17:29:01 WARN TaskSetManager: Stage 1163 contains a task of very large size (2685 KiB). The maximum recommended task size is 1000 KiB.\n",
      "21/12/08 17:29:01 WARN TaskSetManager: Stage 1165 contains a task of very large size (2685 KiB). The maximum recommended task size is 1000 KiB.\n",
      "21/12/08 17:29:01 WARN TaskSetManager: Stage 1167 contains a task of very large size (2685 KiB). The maximum recommended task size is 1000 KiB.\n",
      "21/12/08 17:29:02 WARN TaskSetManager: Stage 1169 contains a task of very large size (2685 KiB). The maximum recommended task size is 1000 KiB.\n",
      "21/12/08 17:29:02 WARN TaskSetManager: Stage 1171 contains a task of very large size (2685 KiB). The maximum recommended task size is 1000 KiB.\n",
      "21/12/08 17:29:02 WARN TaskSetManager: Stage 1173 contains a task of very large size (2685 KiB). The maximum recommended task size is 1000 KiB.\n",
      "21/12/08 17:29:02 WARN TaskSetManager: Stage 1175 contains a task of very large size (2685 KiB). The maximum recommended task size is 1000 KiB.\n",
      "21/12/08 17:29:02 WARN TaskSetManager: Stage 1177 contains a task of very large size (2685 KiB). The maximum recommended task size is 1000 KiB.\n",
      "21/12/08 17:29:02 WARN TaskSetManager: Stage 1179 contains a task of very large size (2685 KiB). The maximum recommended task size is 1000 KiB.\n",
      "21/12/08 17:29:02 WARN TaskSetManager: Stage 1181 contains a task of very large size (2685 KiB). The maximum recommended task size is 1000 KiB.\n",
      "21/12/08 17:29:02 WARN TaskSetManager: Stage 1183 contains a task of very large size (2685 KiB). The maximum recommended task size is 1000 KiB.\n",
      "21/12/08 17:29:03 WARN TaskSetManager: Stage 1185 contains a task of very large size (2685 KiB). The maximum recommended task size is 1000 KiB.\n",
      "21/12/08 17:29:03 WARN TaskSetManager: Stage 1187 contains a task of very large size (2685 KiB). The maximum recommended task size is 1000 KiB.\n",
      "21/12/08 17:29:03 WARN TaskSetManager: Stage 1189 contains a task of very large size (2685 KiB). The maximum recommended task size is 1000 KiB.\n",
      "21/12/08 17:29:03 WARN TaskSetManager: Stage 1191 contains a task of very large size (2685 KiB). The maximum recommended task size is 1000 KiB.\n",
      "21/12/08 17:29:03 WARN TaskSetManager: Stage 1193 contains a task of very large size (2685 KiB). The maximum recommended task size is 1000 KiB.\n",
      "21/12/08 17:29:03 WARN TaskSetManager: Stage 1195 contains a task of very large size (2685 KiB). The maximum recommended task size is 1000 KiB.\n",
      "21/12/08 17:29:03 WARN TaskSetManager: Stage 1197 contains a task of very large size (2685 KiB). The maximum recommended task size is 1000 KiB.\n",
      "21/12/08 17:29:03 WARN TaskSetManager: Stage 1199 contains a task of very large size (2685 KiB). The maximum recommended task size is 1000 KiB.\n",
      "21/12/08 17:29:04 WARN TaskSetManager: Stage 1201 contains a task of very large size (2685 KiB). The maximum recommended task size is 1000 KiB.\n",
      "21/12/08 17:29:04 WARN TaskSetManager: Stage 1203 contains a task of very large size (2685 KiB). The maximum recommended task size is 1000 KiB.\n",
      "21/12/08 17:29:04 WARN TaskSetManager: Stage 1205 contains a task of very large size (2685 KiB). The maximum recommended task size is 1000 KiB.\n",
      "21/12/08 17:29:04 WARN TaskSetManager: Stage 1207 contains a task of very large size (2685 KiB). The maximum recommended task size is 1000 KiB.\n",
      "21/12/08 17:29:04 WARN TaskSetManager: Stage 1209 contains a task of very large size (2685 KiB). The maximum recommended task size is 1000 KiB.\n",
      "21/12/08 17:29:04 WARN TaskSetManager: Stage 1211 contains a task of very large size (2685 KiB). The maximum recommended task size is 1000 KiB.\n",
      "21/12/08 17:29:04 WARN TaskSetManager: Stage 1213 contains a task of very large size (2685 KiB). The maximum recommended task size is 1000 KiB.\n",
      "21/12/08 17:29:05 WARN TaskSetManager: Stage 1215 contains a task of very large size (2685 KiB). The maximum recommended task size is 1000 KiB.\n",
      "21/12/08 17:29:06 WARN TaskSetManager: Stage 1217 contains a task of very large size (2685 KiB). The maximum recommended task size is 1000 KiB.\n",
      "21/12/08 17:29:06 WARN TaskSetManager: Stage 1219 contains a task of very large size (2685 KiB). The maximum recommended task size is 1000 KiB.\n",
      "21/12/08 17:29:06 WARN TaskSetManager: Stage 1221 contains a task of very large size (2685 KiB). The maximum recommended task size is 1000 KiB.\n",
      "21/12/08 17:29:07 WARN TaskSetManager: Stage 1223 contains a task of very large size (2684 KiB). The maximum recommended task size is 1000 KiB.\n"
     ]
    },
    {
     "name": "stdout",
     "output_type": "stream",
     "text": [
      "+--------------------+------------+--------------------+--------------------+----------+\n",
      "|              scaled|Diabetes_012|       rawPrediction|         probability|prediction|\n",
      "+--------------------+------------+--------------------+--------------------+----------+\n",
      "|(5,[0,2],[1.0,0.0...|         0.0|[1.10378907818018...|[0.90092797069540...|       0.0|\n",
      "|(5,[0,2],[1.0,0.0...|         0.0|[1.10378907818018...|[0.90092797069540...|       0.0|\n",
      "|(5,[0,2],[1.0,0.0...|         0.0|[1.10378907818018...|[0.90092797069540...|       0.0|\n",
      "|(5,[0,2],[1.0,0.0...|         0.0|[1.10378907818018...|[0.90092797069540...|       0.0|\n",
      "|(5,[0,2],[1.0,0.0...|         0.0|[1.10378907818018...|[0.90092797069540...|       0.0|\n",
      "|(5,[0,2],[1.0,0.0...|         0.0|[1.10378907818018...|[0.90092797069540...|       0.0|\n",
      "|(5,[0,2],[1.0,0.0...|         0.0|[1.10378907818018...|[0.90092797069540...|       0.0|\n",
      "|(5,[0,2],[1.0,0.1...|         0.0|[1.02150977580371...|[0.88524038076299...|       0.0|\n",
      "|(5,[0,2],[1.0,0.1...|         0.0|[1.02150977580371...|[0.88524038076299...|       0.0|\n",
      "|(5,[0,2],[1.0,0.1...|         0.0|[1.02150977580371...|[0.88524038076299...|       0.0|\n",
      "|(5,[0,2],[1.0,0.1...|         0.0|[1.02150977580371...|[0.88524038076299...|       0.0|\n",
      "|(5,[0,2],[1.0,0.1...|         0.0|[1.02150977580371...|[0.88524038076299...|       0.0|\n",
      "|(5,[0,2],[1.0,0.1...|         0.0|[1.02150977580371...|[0.88524038076299...|       0.0|\n",
      "|(5,[0,2],[1.0,0.1...|         0.0|[1.02150977580371...|[0.88524038076299...|       0.0|\n",
      "|(5,[0,2],[1.0,0.1...|         0.0|[1.02150977580371...|[0.88524038076299...|       0.0|\n",
      "|(5,[0,2],[1.0,0.1...|         0.0|[0.92269872914364...|[0.86358580567138...|       0.0|\n",
      "|(5,[0,2],[1.0,0.1...|         0.0|[0.92269872914364...|[0.86358580567138...|       0.0|\n",
      "|(5,[0,2],[1.0,0.1...|         0.0|[0.92269872914364...|[0.86358580567138...|       0.0|\n",
      "|(5,[0,2],[1.0,0.1...|         0.0|[0.92269872914364...|[0.86358580567138...|       0.0|\n",
      "|(5,[0,2],[1.0,0.1...|         0.0|[0.92269872914364...|[0.86358580567138...|       0.0|\n",
      "+--------------------+------------+--------------------+--------------------+----------+\n",
      "only showing top 20 rows\n",
      "\n"
     ]
    },
    {
     "name": "stderr",
     "output_type": "stream",
     "text": [
      "21/12/08 17:29:07 WARN TaskSetManager: Stage 1224 contains a task of very large size (2684 KiB). The maximum recommended task size is 1000 KiB.\n",
      "21/12/08 17:29:09 WARN TaskSetManager: Stage 1225 contains a task of very large size (2684 KiB). The maximum recommended task size is 1000 KiB.\n",
      "                                                                                \r"
     ]
    },
    {
     "name": "stdout",
     "output_type": "stream",
     "text": [
      "              precision    recall  f1-score   support\n",
      "\n",
      "         0.0       0.75      0.71      0.73     57470\n",
      "         1.0       0.73      0.77      0.75     57717\n",
      "\n",
      "    accuracy                           0.74    115187\n",
      "   macro avg       0.74      0.74      0.74    115187\n",
      "weighted avg       0.74      0.74      0.74    115187\n",
      "\n"
     ]
    },
    {
     "data": {
      "image/png": "[encoded data removed]",
      "text/plain": [
       "<Figure size 576x432 with 2 Axes>"
      ]
     },
     "metadata": {
      "needs_background": "light"
     },
     "output_type": "display_data"
    }
   ],
   "source": [
    "from pyspark.ml.classification import GBTClassifier\n",
    "\n",
    "train , test = final_data.randomSplit([0.7,0.3])\n",
    "\n",
    "models_gbt = GBTClassifier(labelCol='Diabetes_012',featuresCol=\"scaled\")\n",
    "model_gbt = models_gbt.fit(train)\n",
    "predictions = model_gbt.transform(test)\n",
    "predictions.show(20)\n",
    "#evaluator = BinaryClassificationEvaluator(rawPredictionCol=\"rawPrediction\", labelCol=\"Diabetes_012\")\n",
    "#evaluator.evaluate(model.transform(test))\n",
    "\n",
    "y_true = predictions.select(['Diabetes_012']).collect()\n",
    "y_pred = predictions.select(['prediction']).collect()\n",
    "\n",
    "print(classification_report(y_true, y_pred))\n",
    "plt.figure(figsize = (8,6))\n",
    "sns.heatmap(confusion_matrix(y_true, y_pred), annot = True, fmt = \".0f\")\n",
    "plt.title(\"Confusion Matrix\")\n",
    "plt.xlabel(\"Prediction\")\n",
    "plt.ylabel(\"Actual\")\n",
    "plt.show()"
   ]
  },
  {
   "cell_type": "markdown",
   "id": "9785a7b5",
   "metadata": {},
   "source": [
    "# Evaluation of performance runtime\n",
    "\n",
    "## Logistic Regression  runtime evaluation"
   ]
  },
  {
   "cell_type": "code",
   "execution_count": 77,
   "id": "84f1d54d",
   "metadata": {},
   "outputs": [
    {
     "name": "stderr",
     "output_type": "stream",
     "text": [
      "21/12/08 17:34:08 WARN TaskSetManager: Stage 1303 contains a task of very large size (2684 KiB). The maximum recommended task size is 1000 KiB.\n",
      "21/12/08 17:34:09 WARN TaskSetManager: Stage 1305 contains a task of very large size (2684 KiB). The maximum recommended task size is 1000 KiB.\n",
      "21/12/08 17:34:11 WARN TaskSetManager: Stage 1307 contains a task of very large size (2684 KiB). The maximum recommended task size is 1000 KiB.\n",
      "21/12/08 17:34:11 WARN TaskSetManager: Stage 1309 contains a task of very large size (2684 KiB). The maximum recommended task size is 1000 KiB.\n",
      "21/12/08 17:34:11 WARN TaskSetManager: Stage 1311 contains a task of very large size (2684 KiB). The maximum recommended task size is 1000 KiB.\n",
      "21/12/08 17:34:11 WARN TaskSetManager: Stage 1313 contains a task of very large size (2684 KiB). The maximum recommended task size is 1000 KiB.\n",
      "21/12/08 17:34:11 WARN TaskSetManager: Stage 1315 contains a task of very large size (2684 KiB). The maximum recommended task size is 1000 KiB.\n",
      "21/12/08 17:34:12 WARN TaskSetManager: Stage 1317 contains a task of very large size (2684 KiB). The maximum recommended task size is 1000 KiB.\n",
      "21/12/08 17:34:12 WARN TaskSetManager: Stage 1319 contains a task of very large size (2684 KiB). The maximum recommended task size is 1000 KiB.\n",
      "21/12/08 17:34:12 WARN TaskSetManager: Stage 1321 contains a task of very large size (2684 KiB). The maximum recommended task size is 1000 KiB.\n",
      "21/12/08 17:34:12 WARN TaskSetManager: Stage 1323 contains a task of very large size (2684 KiB). The maximum recommended task size is 1000 KiB.\n",
      "21/12/08 17:34:13 WARN TaskSetManager: Stage 1325 contains a task of very large size (2684 KiB). The maximum recommended task size is 1000 KiB.\n",
      "                                                                                \r"
     ]
    },
    {
     "name": "stdout",
     "output_type": "stream",
     "text": [
      "+-------+------------------+------------------+\n",
      "|summary|      Diabetes_012|        prediction|\n",
      "+-------+------------------+------------------+\n",
      "|  count|            268967|            268967|\n",
      "|   mean| 0.500150576092978|0.5090736038250046|\n",
      "| stddev|0.5000009068114447|0.4999185922658198|\n",
      "|    min|               0.0|               0.0|\n",
      "|    max|               1.0|               1.0|\n",
      "+-------+------------------+------------------+\n",
      "\n"
     ]
    },
    {
     "name": "stderr",
     "output_type": "stream",
     "text": [
      "21/12/08 17:34:14 WARN TaskSetManager: Stage 1328 contains a task of very large size (2684 KiB). The maximum recommended task size is 1000 KiB.\n"
     ]
    },
    {
     "name": "stdout",
     "output_type": "stream",
     "text": [
      "+--------------------+------------+--------------------+--------------------+----------+\n",
      "|              scaled|Diabetes_012|       rawPrediction|         probability|prediction|\n",
      "+--------------------+------------+--------------------+--------------------+----------+\n",
      "|(5,[0,2],[1.0,0.0...|         0.0|[1.92375382331038...|[0.87255644929344...|       0.0|\n",
      "|(5,[0,2],[1.0,0.0...|         0.0|[1.80072040788416...|[0.85823660725161...|       0.0|\n",
      "|(5,[0,2],[1.0,0.0...|         0.0|[1.80072040788416...|[0.85823660725161...|       0.0|\n",
      "|(5,[0,2],[1.0,0.0...|         0.0|[1.73920370017106...|[0.85058589234649...|       0.0|\n",
      "|(5,[0,2],[1.0,0.0...|         0.0|[1.73920370017106...|[0.85058589234649...|       0.0|\n",
      "|(5,[0,2],[1.0,0.0...|         0.0|[1.67768699245795...|[0.84259800781226...|       0.0|\n",
      "|(5,[0,2],[1.0,0.0...|         0.0|[1.67768699245795...|[0.84259800781226...|       0.0|\n",
      "|(5,[0,2],[1.0,0.0...|         0.0|[1.67768699245795...|[0.84259800781226...|       0.0|\n",
      "|(5,[0,2],[1.0,0.1...|         0.0|[1.61617028474484...|[0.83426628785360...|       0.0|\n",
      "|(5,[0,2],[1.0,0.1...|         0.0|[1.61617028474484...|[0.83426628785360...|       0.0|\n",
      "|(5,[0,2],[1.0,0.1...|         0.0|[1.61617028474484...|[0.83426628785360...|       0.0|\n",
      "|(5,[0,2],[1.0,0.1...|         0.0|[1.61617028474484...|[0.83426628785360...|       0.0|\n",
      "|(5,[0,2],[1.0,0.1...|         0.0|[1.61617028474484...|[0.83426628785360...|       0.0|\n",
      "|(5,[0,2],[1.0,0.1...|         0.0|[1.61617028474484...|[0.83426628785360...|       0.0|\n",
      "|(5,[0,2],[1.0,0.1...|         0.0|[1.55465357703173...|[0.82558483700183...|       0.0|\n",
      "|(5,[0,2],[1.0,0.1...|         0.0|[1.55465357703173...|[0.82558483700183...|       0.0|\n",
      "|(5,[0,2],[1.0,0.1...|         0.0|[1.55465357703173...|[0.82558483700183...|       0.0|\n",
      "|(5,[0,2],[1.0,0.1...|         0.0|[1.55465357703173...|[0.82558483700183...|       0.0|\n",
      "|(5,[0,2],[1.0,0.1...|         0.0|[1.55465357703173...|[0.82558483700183...|       0.0|\n",
      "|(5,[0,2],[1.0,0.1...|         0.0|[1.55465357703173...|[0.82558483700183...|       0.0|\n",
      "+--------------------+------------+--------------------+--------------------+----------+\n",
      "only showing top 20 rows\n",
      "\n",
      "Time taken to run the Linear Regression model: 6.0564799308776855\n"
     ]
    }
   ],
   "source": [
    "import time\n",
    "start = time.time()\n",
    "\n",
    "train , test = final_data.randomSplit([0.7,0.3])\n",
    "models = LogisticRegression(labelCol='Diabetes_012',featuresCol=\"scaled\")\n",
    "model = models.fit(train)\n",
    "summary = model.summary\n",
    "summary.predictions.describe().show()\n",
    "predictions = model.evaluate(test)\n",
    "end = time.time()\n",
    "predictions.predictions.show(20)\n",
    "\n",
    "timetaken = end - start\n",
    "print(\"Time taken to run the Linear Regression model:\", timetaken )"
   ]
  },
  {
   "cell_type": "markdown",
   "id": "c9bbcb66",
   "metadata": {},
   "source": [
    "## Random Forest runtime evaluation"
   ]
  },
  {
   "cell_type": "code",
   "execution_count": 81,
   "id": "21ac7f9c",
   "metadata": {},
   "outputs": [
    {
     "name": "stderr",
     "output_type": "stream",
     "text": [
      "21/12/08 17:36:16 WARN TaskSetManager: Stage 1350 contains a task of very large size (2684 KiB). The maximum recommended task size is 1000 KiB.\n",
      "21/12/08 17:36:17 WARN TaskSetManager: Stage 1353 contains a task of very large size (2684 KiB). The maximum recommended task size is 1000 KiB.\n",
      "21/12/08 17:36:17 WARN TaskSetManager: Stage 1354 contains a task of very large size (2684 KiB). The maximum recommended task size is 1000 KiB.\n",
      "21/12/08 17:36:18 WARN TaskSetManager: Stage 1355 contains a task of very large size (2684 KiB). The maximum recommended task size is 1000 KiB.\n",
      "21/12/08 17:36:19 WARN TaskSetManager: Stage 1357 contains a task of very large size (2684 KiB). The maximum recommended task size is 1000 KiB.\n",
      "21/12/08 17:36:20 WARN TaskSetManager: Stage 1359 contains a task of very large size (2684 KiB). The maximum recommended task size is 1000 KiB.\n",
      "21/12/08 17:36:21 WARN TaskSetManager: Stage 1361 contains a task of very large size (2684 KiB). The maximum recommended task size is 1000 KiB.\n",
      "21/12/08 17:36:21 WARN TaskSetManager: Stage 1363 contains a task of very large size (2684 KiB). The maximum recommended task size is 1000 KiB.\n",
      "21/12/08 17:36:21 WARN TaskSetManager: Stage 1365 contains a task of very large size (2684 KiB). The maximum recommended task size is 1000 KiB.\n",
      "21/12/08 17:36:22 WARN TaskSetManager: Stage 1367 contains a task of very large size (2684 KiB). The maximum recommended task size is 1000 KiB.\n",
      "                                                                                \r"
     ]
    },
    {
     "name": "stdout",
     "output_type": "stream",
     "text": [
      "+-------+-------------------+-------------------+\n",
      "|summary|       Diabetes_012|         prediction|\n",
      "+-------+-------------------+-------------------+\n",
      "|  count|             269304|             269304|\n",
      "|   mean|0.49955440691560465|  0.546148590440543|\n",
      "| stddev| 0.5000007297679064|0.49786667694731357|\n",
      "|    min|                0.0|                0.0|\n",
      "|    max|                1.0|                1.0|\n",
      "+-------+-------------------+-------------------+\n",
      "\n"
     ]
    },
    {
     "name": "stderr",
     "output_type": "stream",
     "text": [
      "21/12/08 17:36:24 WARN TaskSetManager: Stage 1370 contains a task of very large size (2684 KiB). The maximum recommended task size is 1000 KiB.\n"
     ]
    },
    {
     "name": "stdout",
     "output_type": "stream",
     "text": [
      "+--------------------+------------+--------------------+--------------------+----------+\n",
      "|              scaled|Diabetes_012|       rawPrediction|         probability|prediction|\n",
      "+--------------------+------------+--------------------+--------------------+----------+\n",
      "|(5,[0,2],[1.0,0.0...|         0.0|[13.0748788727381...|[0.65374394363690...|       0.0|\n",
      "|(5,[0,2],[1.0,0.0...|         0.0|[13.0748788727381...|[0.65374394363690...|       0.0|\n",
      "|(5,[0,2],[1.0,0.0...|         0.0|[13.0748788727381...|[0.65374394363690...|       0.0|\n",
      "|(5,[0,2],[1.0,0.0...|         0.0|[13.0748788727381...|[0.65374394363690...|       0.0|\n",
      "|(5,[0,2],[1.0,0.0...|         0.0|[13.0748788727381...|[0.65374394363690...|       0.0|\n",
      "|(5,[0,2],[1.0,0.0...|         0.0|[13.0748788727381...|[0.65374394363690...|       0.0|\n",
      "|(5,[0,2],[1.0,0.0...|         0.0|[13.0748788727381...|[0.65374394363690...|       0.0|\n",
      "|(5,[0,2],[1.0,0.0...|         0.0|[13.0748788727381...|[0.65374394363690...|       0.0|\n",
      "|(5,[0,2],[1.0,0.0...|         0.0|[13.0748788727381...|[0.65374394363690...|       0.0|\n",
      "|(5,[0,2],[1.0,0.1...|         0.0|[13.0748788727381...|[0.65374394363690...|       0.0|\n",
      "|(5,[0,2],[1.0,0.1...|         0.0|[13.0748788727381...|[0.65374394363690...|       0.0|\n",
      "|(5,[0,2],[1.0,0.1...|         0.0|[13.0748788727381...|[0.65374394363690...|       0.0|\n",
      "|(5,[0,2],[1.0,0.1...|         0.0|[13.0748788727381...|[0.65374394363690...|       0.0|\n",
      "|(5,[0,2],[1.0,0.1...|         0.0|[13.0748788727381...|[0.65374394363690...|       0.0|\n",
      "|(5,[0,2],[1.0,0.1...|         0.0|[13.0748788727381...|[0.65374394363690...|       0.0|\n",
      "|(5,[0,2],[1.0,0.1...|         0.0|[13.0748788727381...|[0.65374394363690...|       0.0|\n",
      "|(5,[0,2],[1.0,0.1...|         0.0|[13.0748788727381...|[0.65374394363690...|       0.0|\n",
      "|(5,[0,2],[1.0,0.1...|         0.0|[13.0748788727381...|[0.65374394363690...|       0.0|\n",
      "|(5,[0,2],[1.0,0.1...|         0.0|[13.0748788727381...|[0.65374394363690...|       0.0|\n",
      "|(5,[0,2],[1.0,0.1...|         0.0|[13.0748788727381...|[0.65374394363690...|       0.0|\n",
      "+--------------------+------------+--------------------+--------------------+----------+\n",
      "only showing top 20 rows\n",
      "\n",
      "Time taken to run the Random Forest model: 7.963494777679443\n"
     ]
    }
   ],
   "source": [
    "import time\n",
    "start = time.time()\n",
    "\n",
    "train , test = final_data.randomSplit([0.7,0.3])\n",
    "models = RandomForestClassifier(labelCol='Diabetes_012',featuresCol=\"scaled\")\n",
    "model = models.fit(train)\n",
    "summary = model.summary\n",
    "summary.predictions.describe().show()\n",
    "predictions = model.evaluate(test)\n",
    "end = time.time()\n",
    "predictions.predictions.show(20)\n",
    "\n",
    "timetaken = end - start\n",
    "print(\"Time taken to run the Random Forest model:\", timetaken )"
   ]
  },
  {
   "cell_type": "code",
   "execution_count": 84,
   "id": "9850a2df",
   "metadata": {},
   "outputs": [
    {
     "name": "stderr",
     "output_type": "stream",
     "text": [
      "21/12/08 17:47:55 WARN TaskSetManager: Stage 1779 contains a task of very large size (2684 KiB). The maximum recommended task size is 1000 KiB.\n",
      "21/12/08 17:47:55 WARN TaskSetManager: Stage 1780 contains a task of very large size (2684 KiB). The maximum recommended task size is 1000 KiB.\n",
      "21/12/08 17:47:56 WARN TaskSetManager: Stage 1781 contains a task of very large size (2684 KiB). The maximum recommended task size is 1000 KiB.\n",
      "21/12/08 17:47:57 WARN TaskSetManager: Stage 1783 contains a task of very large size (2684 KiB). The maximum recommended task size is 1000 KiB.\n",
      "21/12/08 17:47:58 WARN TaskSetManager: Stage 1785 contains a task of very large size (2684 KiB). The maximum recommended task size is 1000 KiB.\n",
      "21/12/08 17:47:58 WARN TaskSetManager: Stage 1787 contains a task of very large size (2684 KiB). The maximum recommended task size is 1000 KiB.\n",
      "21/12/08 17:47:58 WARN TaskSetManager: Stage 1789 contains a task of very large size (2684 KiB). The maximum recommended task size is 1000 KiB.\n",
      "21/12/08 17:47:58 WARN TaskSetManager: Stage 1791 contains a task of very large size (2684 KiB). The maximum recommended task size is 1000 KiB.\n",
      "21/12/08 17:47:58 WARN TaskSetManager: Stage 1793 contains a task of very large size (2684 KiB). The maximum recommended task size is 1000 KiB.\n",
      "21/12/08 17:47:58 WARN TaskSetManager: Stage 1795 contains a task of very large size (2684 KiB). The maximum recommended task size is 1000 KiB.\n",
      "21/12/08 17:47:59 WARN TaskSetManager: Stage 1797 contains a task of very large size (2684 KiB). The maximum recommended task size is 1000 KiB.\n",
      "21/12/08 17:48:00 WARN TaskSetManager: Stage 1799 contains a task of very large size (2684 KiB). The maximum recommended task size is 1000 KiB.\n",
      "21/12/08 17:48:00 WARN TaskSetManager: Stage 1801 contains a task of very large size (2684 KiB). The maximum recommended task size is 1000 KiB.\n",
      "21/12/08 17:48:00 WARN TaskSetManager: Stage 1803 contains a task of very large size (2684 KiB). The maximum recommended task size is 1000 KiB.\n",
      "21/12/08 17:48:00 WARN TaskSetManager: Stage 1805 contains a task of very large size (2684 KiB). The maximum recommended task size is 1000 KiB.\n",
      "21/12/08 17:48:00 WARN TaskSetManager: Stage 1807 contains a task of very large size (2684 KiB). The maximum recommended task size is 1000 KiB.\n",
      "21/12/08 17:48:00 WARN TaskSetManager: Stage 1809 contains a task of very large size (2684 KiB). The maximum recommended task size is 1000 KiB.\n",
      "21/12/08 17:48:00 WARN TaskSetManager: Stage 1811 contains a task of very large size (2684 KiB). The maximum recommended task size is 1000 KiB.\n",
      "21/12/08 17:48:00 WARN TaskSetManager: Stage 1813 contains a task of very large size (2684 KiB). The maximum recommended task size is 1000 KiB.\n",
      "21/12/08 17:48:00 WARN TaskSetManager: Stage 1815 contains a task of very large size (2684 KiB). The maximum recommended task size is 1000 KiB.\n",
      "21/12/08 17:48:01 WARN TaskSetManager: Stage 1817 contains a task of very large size (2684 KiB). The maximum recommended task size is 1000 KiB.\n",
      "21/12/08 17:48:01 WARN TaskSetManager: Stage 1819 contains a task of very large size (2684 KiB). The maximum recommended task size is 1000 KiB.\n",
      "21/12/08 17:48:01 WARN TaskSetManager: Stage 1821 contains a task of very large size (2684 KiB). The maximum recommended task size is 1000 KiB.\n",
      "21/12/08 17:48:01 WARN TaskSetManager: Stage 1823 contains a task of very large size (2684 KiB). The maximum recommended task size is 1000 KiB.\n",
      "21/12/08 17:48:01 WARN TaskSetManager: Stage 1825 contains a task of very large size (2684 KiB). The maximum recommended task size is 1000 KiB.\n",
      "21/12/08 17:48:01 WARN TaskSetManager: Stage 1827 contains a task of very large size (2684 KiB). The maximum recommended task size is 1000 KiB.\n",
      "21/12/08 17:48:01 WARN TaskSetManager: Stage 1829 contains a task of very large size (2684 KiB). The maximum recommended task size is 1000 KiB.\n",
      "21/12/08 17:48:01 WARN TaskSetManager: Stage 1831 contains a task of very large size (2684 KiB). The maximum recommended task size is 1000 KiB.\n",
      "21/12/08 17:48:01 WARN TaskSetManager: Stage 1833 contains a task of very large size (2684 KiB). The maximum recommended task size is 1000 KiB.\n",
      "21/12/08 17:48:02 WARN TaskSetManager: Stage 1835 contains a task of very large size (2684 KiB). The maximum recommended task size is 1000 KiB.\n",
      "21/12/08 17:48:02 WARN TaskSetManager: Stage 1837 contains a task of very large size (2684 KiB). The maximum recommended task size is 1000 KiB.\n",
      "21/12/08 17:48:02 WARN TaskSetManager: Stage 1839 contains a task of very large size (2684 KiB). The maximum recommended task size is 1000 KiB.\n",
      "21/12/08 17:48:02 WARN TaskSetManager: Stage 1841 contains a task of very large size (2684 KiB). The maximum recommended task size is 1000 KiB.\n",
      "21/12/08 17:48:02 WARN TaskSetManager: Stage 1843 contains a task of very large size (2685 KiB). The maximum recommended task size is 1000 KiB.\n",
      "21/12/08 17:48:02 WARN TaskSetManager: Stage 1845 contains a task of very large size (2685 KiB). The maximum recommended task size is 1000 KiB.\n",
      "21/12/08 17:48:02 WARN TaskSetManager: Stage 1847 contains a task of very large size (2685 KiB). The maximum recommended task size is 1000 KiB.\n",
      "21/12/08 17:48:02 WARN TaskSetManager: Stage 1849 contains a task of very large size (2685 KiB). The maximum recommended task size is 1000 KiB.\n",
      "21/12/08 17:48:02 WARN TaskSetManager: Stage 1851 contains a task of very large size (2685 KiB). The maximum recommended task size is 1000 KiB.\n",
      "21/12/08 17:48:02 WARN TaskSetManager: Stage 1853 contains a task of very large size (2685 KiB). The maximum recommended task size is 1000 KiB.\n",
      "21/12/08 17:48:02 WARN TaskSetManager: Stage 1855 contains a task of very large size (2685 KiB). The maximum recommended task size is 1000 KiB.\n",
      "21/12/08 17:48:03 WARN TaskSetManager: Stage 1857 contains a task of very large size (2685 KiB). The maximum recommended task size is 1000 KiB.\n",
      "21/12/08 17:48:03 WARN TaskSetManager: Stage 1859 contains a task of very large size (2685 KiB). The maximum recommended task size is 1000 KiB.\n",
      "21/12/08 17:48:03 WARN TaskSetManager: Stage 1861 contains a task of very large size (2685 KiB). The maximum recommended task size is 1000 KiB.\n",
      "21/12/08 17:48:03 WARN TaskSetManager: Stage 1863 contains a task of very large size (2685 KiB). The maximum recommended task size is 1000 KiB.\n",
      "21/12/08 17:48:03 WARN TaskSetManager: Stage 1865 contains a task of very large size (2685 KiB). The maximum recommended task size is 1000 KiB.\n",
      "21/12/08 17:48:03 WARN TaskSetManager: Stage 1867 contains a task of very large size (2685 KiB). The maximum recommended task size is 1000 KiB.\n",
      "21/12/08 17:48:03 WARN TaskSetManager: Stage 1869 contains a task of very large size (2685 KiB). The maximum recommended task size is 1000 KiB.\n",
      "21/12/08 17:48:03 WARN TaskSetManager: Stage 1871 contains a task of very large size (2685 KiB). The maximum recommended task size is 1000 KiB.\n",
      "21/12/08 17:48:03 WARN TaskSetManager: Stage 1873 contains a task of very large size (2685 KiB). The maximum recommended task size is 1000 KiB.\n",
      "21/12/08 17:48:04 WARN TaskSetManager: Stage 1875 contains a task of very large size (2685 KiB). The maximum recommended task size is 1000 KiB.\n",
      "21/12/08 17:48:04 WARN TaskSetManager: Stage 1877 contains a task of very large size (2685 KiB). The maximum recommended task size is 1000 KiB.\n",
      "21/12/08 17:48:04 WARN TaskSetManager: Stage 1879 contains a task of very large size (2685 KiB). The maximum recommended task size is 1000 KiB.\n",
      "21/12/08 17:48:04 WARN TaskSetManager: Stage 1881 contains a task of very large size (2685 KiB). The maximum recommended task size is 1000 KiB.\n",
      "21/12/08 17:48:04 WARN TaskSetManager: Stage 1883 contains a task of very large size (2685 KiB). The maximum recommended task size is 1000 KiB.\n",
      "21/12/08 17:48:04 WARN TaskSetManager: Stage 1885 contains a task of very large size (2685 KiB). The maximum recommended task size is 1000 KiB.\n",
      "21/12/08 17:48:04 WARN TaskSetManager: Stage 1887 contains a task of very large size (2685 KiB). The maximum recommended task size is 1000 KiB.\n",
      "21/12/08 17:48:04 WARN TaskSetManager: Stage 1889 contains a task of very large size (2685 KiB). The maximum recommended task size is 1000 KiB.\n"
     ]
    },
    {
     "name": "stderr",
     "output_type": "stream",
     "text": [
      "21/12/08 17:48:04 WARN TaskSetManager: Stage 1891 contains a task of very large size (2685 KiB). The maximum recommended task size is 1000 KiB.\n",
      "21/12/08 17:48:04 WARN TaskSetManager: Stage 1893 contains a task of very large size (2685 KiB). The maximum recommended task size is 1000 KiB.\n",
      "21/12/08 17:48:05 WARN TaskSetManager: Stage 1895 contains a task of very large size (2685 KiB). The maximum recommended task size is 1000 KiB.\n",
      "21/12/08 17:48:05 WARN TaskSetManager: Stage 1897 contains a task of very large size (2685 KiB). The maximum recommended task size is 1000 KiB.\n",
      "21/12/08 17:48:05 WARN TaskSetManager: Stage 1899 contains a task of very large size (2685 KiB). The maximum recommended task size is 1000 KiB.\n",
      "21/12/08 17:48:06 WARN TaskSetManager: Stage 1901 contains a task of very large size (2685 KiB). The maximum recommended task size is 1000 KiB.\n",
      "21/12/08 17:48:06 WARN TaskSetManager: Stage 1903 contains a task of very large size (2685 KiB). The maximum recommended task size is 1000 KiB.\n",
      "21/12/08 17:48:06 WARN TaskSetManager: Stage 1905 contains a task of very large size (2685 KiB). The maximum recommended task size is 1000 KiB.\n",
      "21/12/08 17:48:06 WARN TaskSetManager: Stage 1907 contains a task of very large size (2685 KiB). The maximum recommended task size is 1000 KiB.\n",
      "21/12/08 17:48:06 WARN TaskSetManager: Stage 1909 contains a task of very large size (2685 KiB). The maximum recommended task size is 1000 KiB.\n",
      "21/12/08 17:48:06 WARN TaskSetManager: Stage 1911 contains a task of very large size (2685 KiB). The maximum recommended task size is 1000 KiB.\n",
      "21/12/08 17:48:06 WARN TaskSetManager: Stage 1913 contains a task of very large size (2685 KiB). The maximum recommended task size is 1000 KiB.\n",
      "21/12/08 17:48:06 WARN TaskSetManager: Stage 1915 contains a task of very large size (2685 KiB). The maximum recommended task size is 1000 KiB.\n",
      "21/12/08 17:48:07 WARN TaskSetManager: Stage 1917 contains a task of very large size (2685 KiB). The maximum recommended task size is 1000 KiB.\n",
      "21/12/08 17:48:07 WARN TaskSetManager: Stage 1919 contains a task of very large size (2685 KiB). The maximum recommended task size is 1000 KiB.\n",
      "21/12/08 17:48:07 WARN TaskSetManager: Stage 1921 contains a task of very large size (2685 KiB). The maximum recommended task size is 1000 KiB.\n",
      "21/12/08 17:48:07 WARN TaskSetManager: Stage 1923 contains a task of very large size (2685 KiB). The maximum recommended task size is 1000 KiB.\n",
      "21/12/08 17:48:07 WARN TaskSetManager: Stage 1925 contains a task of very large size (2685 KiB). The maximum recommended task size is 1000 KiB.\n",
      "21/12/08 17:48:07 WARN TaskSetManager: Stage 1927 contains a task of very large size (2685 KiB). The maximum recommended task size is 1000 KiB.\n",
      "21/12/08 17:48:07 WARN TaskSetManager: Stage 1929 contains a task of very large size (2685 KiB). The maximum recommended task size is 1000 KiB.\n",
      "21/12/08 17:48:07 WARN TaskSetManager: Stage 1931 contains a task of very large size (2685 KiB). The maximum recommended task size is 1000 KiB.\n",
      "21/12/08 17:48:07 WARN TaskSetManager: Stage 1933 contains a task of very large size (2685 KiB). The maximum recommended task size is 1000 KiB.\n",
      "21/12/08 17:48:08 WARN TaskSetManager: Stage 1935 contains a task of very large size (2685 KiB). The maximum recommended task size is 1000 KiB.\n",
      "21/12/08 17:48:08 WARN TaskSetManager: Stage 1937 contains a task of very large size (2685 KiB). The maximum recommended task size is 1000 KiB.\n",
      "21/12/08 17:48:08 WARN TaskSetManager: Stage 1939 contains a task of very large size (2685 KiB). The maximum recommended task size is 1000 KiB.\n",
      "21/12/08 17:48:08 WARN TaskSetManager: Stage 1941 contains a task of very large size (2685 KiB). The maximum recommended task size is 1000 KiB.\n",
      "21/12/08 17:48:08 WARN TaskSetManager: Stage 1943 contains a task of very large size (2685 KiB). The maximum recommended task size is 1000 KiB.\n",
      "21/12/08 17:48:08 WARN TaskSetManager: Stage 1945 contains a task of very large size (2685 KiB). The maximum recommended task size is 1000 KiB.\n",
      "21/12/08 17:48:08 WARN TaskSetManager: Stage 1947 contains a task of very large size (2685 KiB). The maximum recommended task size is 1000 KiB.\n",
      "21/12/08 17:48:08 WARN TaskSetManager: Stage 1949 contains a task of very large size (2685 KiB). The maximum recommended task size is 1000 KiB.\n",
      "21/12/08 17:48:08 WARN TaskSetManager: Stage 1951 contains a task of very large size (2685 KiB). The maximum recommended task size is 1000 KiB.\n",
      "21/12/08 17:48:08 WARN TaskSetManager: Stage 1953 contains a task of very large size (2685 KiB). The maximum recommended task size is 1000 KiB.\n",
      "21/12/08 17:48:09 WARN TaskSetManager: Stage 1955 contains a task of very large size (2685 KiB). The maximum recommended task size is 1000 KiB.\n",
      "21/12/08 17:48:09 WARN TaskSetManager: Stage 1957 contains a task of very large size (2685 KiB). The maximum recommended task size is 1000 KiB.\n",
      "21/12/08 17:48:09 WARN TaskSetManager: Stage 1959 contains a task of very large size (2685 KiB). The maximum recommended task size is 1000 KiB.\n",
      "21/12/08 17:48:10 WARN TaskSetManager: Stage 1961 contains a task of very large size (2685 KiB). The maximum recommended task size is 1000 KiB.\n",
      "21/12/08 17:48:10 WARN TaskSetManager: Stage 1963 contains a task of very large size (2685 KiB). The maximum recommended task size is 1000 KiB.\n",
      "21/12/08 17:48:10 WARN TaskSetManager: Stage 1965 contains a task of very large size (2685 KiB). The maximum recommended task size is 1000 KiB.\n",
      "21/12/08 17:48:10 WARN TaskSetManager: Stage 1967 contains a task of very large size (2685 KiB). The maximum recommended task size is 1000 KiB.\n",
      "21/12/08 17:48:10 WARN TaskSetManager: Stage 1969 contains a task of very large size (2685 KiB). The maximum recommended task size is 1000 KiB.\n",
      "21/12/08 17:48:10 WARN TaskSetManager: Stage 1971 contains a task of very large size (2685 KiB). The maximum recommended task size is 1000 KiB.\n",
      "21/12/08 17:48:10 WARN TaskSetManager: Stage 1973 contains a task of very large size (2685 KiB). The maximum recommended task size is 1000 KiB.\n",
      "21/12/08 17:48:10 WARN TaskSetManager: Stage 1975 contains a task of very large size (2685 KiB). The maximum recommended task size is 1000 KiB.\n",
      "21/12/08 17:48:11 WARN TaskSetManager: Stage 1977 contains a task of very large size (2685 KiB). The maximum recommended task size is 1000 KiB.\n",
      "21/12/08 17:48:11 WARN TaskSetManager: Stage 1979 contains a task of very large size (2685 KiB). The maximum recommended task size is 1000 KiB.\n",
      "21/12/08 17:48:11 WARN TaskSetManager: Stage 1981 contains a task of very large size (2685 KiB). The maximum recommended task size is 1000 KiB.\n",
      "21/12/08 17:48:12 WARN TaskSetManager: Stage 1983 contains a task of very large size (2684 KiB). The maximum recommended task size is 1000 KiB.\n"
     ]
    },
    {
     "name": "stdout",
     "output_type": "stream",
     "text": [
      "+--------------------+------------+--------------------+--------------------+----------+\n",
      "|              scaled|Diabetes_012|       rawPrediction|         probability|prediction|\n",
      "+--------------------+------------+--------------------+--------------------+----------+\n",
      "|(5,[0,2],[1.0,0.0...|         0.0|[1.17784917857509...|[0.91338609882549...|       0.0|\n",
      "|(5,[0,2],[1.0,0.0...|         0.0|[1.17784917857509...|[0.91338609882549...|       0.0|\n",
      "|(5,[0,2],[1.0,0.0...|         0.0|[1.17784917857509...|[0.91338609882549...|       0.0|\n",
      "|(5,[0,2],[1.0,0.0...|         0.0|[1.17784917857509...|[0.91338609882549...|       0.0|\n",
      "|(5,[0,2],[1.0,0.0...|         0.0|[1.17784917857509...|[0.91338609882549...|       0.0|\n",
      "|(5,[0,2],[1.0,0.0...|         0.0|[1.17784917857509...|[0.91338609882549...|       0.0|\n",
      "|(5,[0,2],[1.0,0.0...|         0.0|[1.17784917857509...|[0.91338609882549...|       0.0|\n",
      "|(5,[0,2],[1.0,0.0...|         0.0|[1.17784917857509...|[0.91338609882549...|       0.0|\n",
      "|(5,[0,2],[1.0,0.0...|         0.0|[1.17784917857509...|[0.91338609882549...|       0.0|\n",
      "|(5,[0,2],[1.0,0.0...|         0.0|[1.17784917857509...|[0.91338609882549...|       0.0|\n",
      "|(5,[0,2],[1.0,0.0...|         0.0|[1.17784917857509...|[0.91338609882549...|       0.0|\n",
      "|(5,[0,2],[1.0,0.1...|         0.0|[1.01659218667727...|[0.88423743450281...|       0.0|\n",
      "|(5,[0,2],[1.0,0.1...|         0.0|[1.01659218667727...|[0.88423743450281...|       0.0|\n",
      "|(5,[0,2],[1.0,0.1...|         0.0|[1.01659218667727...|[0.88423743450281...|       0.0|\n",
      "|(5,[0,2],[1.0,0.1...|         0.0|[1.01659218667727...|[0.88423743450281...|       0.0|\n",
      "|(5,[0,2],[1.0,0.1...|         0.0|[1.01659218667727...|[0.88423743450281...|       0.0|\n",
      "|(5,[0,2],[1.0,0.1...|         0.0|[1.01659218667727...|[0.88423743450281...|       0.0|\n",
      "|(5,[0,2],[1.0,0.1...|         0.0|[1.01659218667727...|[0.88423743450281...|       0.0|\n",
      "|(5,[0,2],[1.0,0.1...|         0.0|[1.01659218667727...|[0.88423743450281...|       0.0|\n",
      "|(5,[0,2],[1.0,0.1...|         0.0|[1.01659218667727...|[0.88423743450281...|       0.0|\n",
      "+--------------------+------------+--------------------+--------------------+----------+\n",
      "only showing top 20 rows\n",
      "\n",
      "Time taken to run the Random Forest model: 17.258311986923218\n"
     ]
    }
   ],
   "source": [
    "import time\n",
    "start = time.time()\n",
    "\n",
    "train , test = final_data.randomSplit([0.7,0.3])\n",
    "models = GBTClassifier(labelCol='Diabetes_012',featuresCol=\"scaled\")\n",
    "model = models.fit(train)\n",
    "#summary = model.summary\n",
    "#summary.predictions.describe().show()\n",
    "predictions = model.transform(test)\n",
    "end = time.time()\n",
    "predictions.show(20)\n",
    "\n",
    "timetaken = end - start\n",
    "print(\"Time taken to run the Random Forest model:\", timetaken )"
   ]
  },
  {
   "cell_type": "markdown",
   "id": "8d3b7e73",
   "metadata": {},
   "source": [
    "# Scalability Evaluation"
   ]
  },
  {
   "cell_type": "code",
   "execution_count": 86,
   "id": "b2b43a3f",
   "metadata": {},
   "outputs": [],
   "source": [
    "def runtime(df,model_user):\n",
    "    lr = LogisticRegression(labelCol='Diabetes_012',featuresCol=\"scaled\")\n",
    "    rfc = RandomForestClassifier(labelCol='Diabetes_012',featuresCol=\"scaled\")\n",
    "    gbt = GBTClassifier(labelCol='Diabetes_012',featuresCol=\"scaled\")\n",
    "    \n",
    "    sampling = [0.25,0.5,0.75,1]\n",
    "    timeEnd = []\n",
    "    time = []\n",
    "    if model_user == \"lr\":\n",
    "        for sample in sampling:\n",
    "            start = timer()\n",
    "            final_data = output1_data_smote.select('scaled','Diabetes_012')\n",
    "            final_data.show()\n",
    "            train , test = final_data.randomSplit([0.7,0.3])\n",
    "            t = train.count() * sample\n",
    "            train = train.limit(int(t))\n",
    "            models = lr\n",
    "            model = models.fit(train)\n",
    "            #predictions = model.evaluate(test)\n",
    "            predictions = model.transform(test)\n",
    "            end = timer()\n",
    "            final = end-start\n",
    "            time.append(final)\n",
    "            timeEnd.append(end)\n",
    "    elif model_user == \"rfc\":\n",
    "        for sample in sampling:\n",
    "            start = timer()\n",
    "            final_data = output1_data_smote.select('scaled','Diabetes_012')\n",
    "            final_data.show()\n",
    "            train , test = final_data.randomSplit([0.7,0.3])\n",
    "            t = train.count() * sample\n",
    "            train = train.limit(int(t))\n",
    "            models = rfc\n",
    "            model = models.fit(train)\n",
    "            #predictions = model.evaluate(test)\n",
    "            predictions = model.transform(test)\n",
    "            end = timer()\n",
    "            final = end-start\n",
    "            time.append(final)\n",
    "            timeEnd.append(end)\n",
    "    elif model_user == \"gbt\":\n",
    "        for sample in sampling:\n",
    "            start = timer()\n",
    "            final_data = output1_data_smote.select('scaled','Diabetes_012')\n",
    "            final_data.show()\n",
    "            train , test = final_data.randomSplit([0.7,0.3])\n",
    "            t = train.count() * sample\n",
    "            train = train.limit(int(t))\n",
    "            models = lr\n",
    "            model = models.fit(train)\n",
    "            #predictions = model.evaluate(test)\n",
    "            predictions = model.transform(test)\n",
    "            end = timer()\n",
    "            final = end-start\n",
    "            time.append(final)\n",
    "            timeEnd.append(end)\n",
    "        \n",
    "        \n",
    "    return sampling, time"
   ]
  },
  {
   "cell_type": "code",
   "execution_count": 91,
   "id": "8d873e28",
   "metadata": {},
   "outputs": [
    {
     "name": "stderr",
     "output_type": "stream",
     "text": [
      "21/12/08 18:03:07 WARN TaskSetManager: Stage 2108 contains a task of very large size (2684 KiB). The maximum recommended task size is 1000 KiB.\n",
      "\r",
      "                                                                                \r"
     ]
    },
    {
     "name": "stdout",
     "output_type": "stream",
     "text": [
      "+--------------------+------------+\n",
      "|              scaled|Diabetes_012|\n",
      "+--------------------+------------+\n",
      "|[1.0,0.0,0.139534...|         0.0|\n",
      "|(5,[2],[0.1511627...|         0.0|\n",
      "|(5,[2,3],[0.17441...|         0.0|\n",
      "|[1.0,0.0,0.476744...|         0.0|\n",
      "|[1.0,1.0,0.244186...|         0.0|\n",
      "|[1.0,1.0,0.220930...|         0.0|\n",
      "|(5,[2],[0.1627906...|         0.0|\n",
      "|(5,[2],[0.2674418...|         0.0|\n",
      "|(5,[2,3],[0.17441...|         0.0|\n",
      "|[1.0,1.0,0.267441...|         1.0|\n",
      "|[1.0,0.0,0.209302...|         0.0|\n",
      "|[1.0,0.0,0.162790...|         0.0|\n",
      "|[0.0,1.0,0.081395...|         0.0|\n",
      "|(5,[2,3],[0.12790...|         0.0|\n",
      "|[1.0,0.0,0.395348...|         0.0|\n",
      "|(5,[2],[0.1744186...|         0.0|\n",
      "|(5,[2,3],[0.23255...|         0.0|\n",
      "|(5,[2,3],[0.09302...|         0.0|\n",
      "|(5,[2],[0.2441860...|         0.0|\n",
      "|[1.0,0.0,0.290697...|         0.0|\n",
      "+--------------------+------------+\n",
      "only showing top 20 rows\n",
      "\n"
     ]
    },
    {
     "name": "stderr",
     "output_type": "stream",
     "text": [
      "21/12/08 18:03:08 WARN TaskSetManager: Stage 2109 contains a task of very large size (2684 KiB). The maximum recommended task size is 1000 KiB.\n",
      "21/12/08 18:03:10 WARN TaskSetManager: Stage 2112 contains a task of very large size (2684 KiB). The maximum recommended task size is 1000 KiB.\n",
      "21/12/08 18:03:11 WARN TaskSetManager: Stage 2113 contains a task of very large size (2684 KiB). The maximum recommended task size is 1000 KiB.\n",
      "21/12/08 18:03:14 WARN TaskSetManager: Stage 2138 contains a task of very large size (2684 KiB). The maximum recommended task size is 1000 KiB.\n",
      "21/12/08 18:03:14 WARN TaskSetManager: Stage 2139 contains a task of very large size (2684 KiB). The maximum recommended task size is 1000 KiB.\n",
      "21/12/08 18:03:15 WARN TaskSetManager: Stage 2140 contains a task of very large size (2684 KiB). The maximum recommended task size is 1000 KiB.\n",
      "                                                                                \r"
     ]
    },
    {
     "name": "stdout",
     "output_type": "stream",
     "text": [
      "+--------------------+------------+\n",
      "|              scaled|Diabetes_012|\n",
      "+--------------------+------------+\n",
      "|[1.0,0.0,0.139534...|         0.0|\n",
      "|(5,[2],[0.1511627...|         0.0|\n",
      "|(5,[2,3],[0.17441...|         0.0|\n",
      "|[1.0,0.0,0.476744...|         0.0|\n",
      "|[1.0,1.0,0.244186...|         0.0|\n",
      "|[1.0,1.0,0.220930...|         0.0|\n",
      "|(5,[2],[0.1627906...|         0.0|\n",
      "|(5,[2],[0.2674418...|         0.0|\n",
      "|(5,[2,3],[0.17441...|         0.0|\n",
      "|[1.0,1.0,0.267441...|         1.0|\n",
      "|[1.0,0.0,0.209302...|         0.0|\n",
      "|[1.0,0.0,0.162790...|         0.0|\n",
      "|[0.0,1.0,0.081395...|         0.0|\n",
      "|(5,[2,3],[0.12790...|         0.0|\n",
      "|[1.0,0.0,0.395348...|         0.0|\n",
      "|(5,[2],[0.1744186...|         0.0|\n",
      "|(5,[2,3],[0.23255...|         0.0|\n",
      "|(5,[2,3],[0.09302...|         0.0|\n",
      "|(5,[2],[0.2441860...|         0.0|\n",
      "|[1.0,0.0,0.290697...|         0.0|\n",
      "+--------------------+------------+\n",
      "only showing top 20 rows\n",
      "\n"
     ]
    },
    {
     "name": "stderr",
     "output_type": "stream",
     "text": [
      "21/12/08 18:03:16 WARN TaskSetManager: Stage 2141 contains a task of very large size (2684 KiB). The maximum recommended task size is 1000 KiB.\n",
      "21/12/08 18:03:16 WARN TaskSetManager: Stage 2144 contains a task of very large size (2684 KiB). The maximum recommended task size is 1000 KiB.\n",
      "21/12/08 18:03:17 WARN TaskSetManager: Stage 2145 contains a task of very large size (2684 KiB). The maximum recommended task size is 1000 KiB.\n",
      "21/12/08 18:03:22 WARN TaskSetManager: Stage 2170 contains a task of very large size (2684 KiB). The maximum recommended task size is 1000 KiB.\n",
      "21/12/08 18:03:23 WARN TaskSetManager: Stage 2171 contains a task of very large size (2684 KiB). The maximum recommended task size is 1000 KiB.\n",
      "21/12/08 18:03:24 WARN TaskSetManager: Stage 2172 contains a task of very large size (2684 KiB). The maximum recommended task size is 1000 KiB.\n",
      "                                                                                \r"
     ]
    },
    {
     "name": "stdout",
     "output_type": "stream",
     "text": [
      "+--------------------+------------+\n",
      "|              scaled|Diabetes_012|\n",
      "+--------------------+------------+\n",
      "|[1.0,0.0,0.139534...|         0.0|\n",
      "|(5,[2],[0.1511627...|         0.0|\n",
      "|(5,[2,3],[0.17441...|         0.0|\n",
      "|[1.0,0.0,0.476744...|         0.0|\n",
      "|[1.0,1.0,0.244186...|         0.0|\n",
      "|[1.0,1.0,0.220930...|         0.0|\n",
      "|(5,[2],[0.1627906...|         0.0|\n",
      "|(5,[2],[0.2674418...|         0.0|\n",
      "|(5,[2,3],[0.17441...|         0.0|\n",
      "|[1.0,1.0,0.267441...|         1.0|\n",
      "|[1.0,0.0,0.209302...|         0.0|\n",
      "|[1.0,0.0,0.162790...|         0.0|\n",
      "|[0.0,1.0,0.081395...|         0.0|\n",
      "|(5,[2,3],[0.12790...|         0.0|\n",
      "|[1.0,0.0,0.395348...|         0.0|\n",
      "|(5,[2],[0.1744186...|         0.0|\n",
      "|(5,[2,3],[0.23255...|         0.0|\n",
      "|(5,[2,3],[0.09302...|         0.0|\n",
      "|(5,[2],[0.2441860...|         0.0|\n",
      "|[1.0,0.0,0.290697...|         0.0|\n",
      "+--------------------+------------+\n",
      "only showing top 20 rows\n",
      "\n"
     ]
    },
    {
     "name": "stderr",
     "output_type": "stream",
     "text": [
      "21/12/08 18:03:24 WARN TaskSetManager: Stage 2173 contains a task of very large size (2684 KiB). The maximum recommended task size is 1000 KiB.\n",
      "21/12/08 18:03:25 WARN TaskSetManager: Stage 2176 contains a task of very large size (2684 KiB). The maximum recommended task size is 1000 KiB.\n",
      "21/12/08 18:03:26 WARN TaskSetManager: Stage 2177 contains a task of very large size (2684 KiB). The maximum recommended task size is 1000 KiB.\n",
      "21/12/08 18:03:30 WARN TaskSetManager: Stage 2200 contains a task of very large size (2684 KiB). The maximum recommended task size is 1000 KiB.\n",
      "21/12/08 18:03:32 WARN TaskSetManager: Stage 2201 contains a task of very large size (2684 KiB). The maximum recommended task size is 1000 KiB.\n",
      "21/12/08 18:03:34 WARN TaskSetManager: Stage 2202 contains a task of very large size (2684 KiB). The maximum recommended task size is 1000 KiB.\n",
      "                                                                                \r"
     ]
    },
    {
     "name": "stdout",
     "output_type": "stream",
     "text": [
      "+--------------------+------------+\n",
      "|              scaled|Diabetes_012|\n",
      "+--------------------+------------+\n",
      "|[1.0,0.0,0.139534...|         0.0|\n",
      "|(5,[2],[0.1511627...|         0.0|\n",
      "|(5,[2,3],[0.17441...|         0.0|\n",
      "|[1.0,0.0,0.476744...|         0.0|\n",
      "|[1.0,1.0,0.244186...|         0.0|\n",
      "|[1.0,1.0,0.220930...|         0.0|\n",
      "|(5,[2],[0.1627906...|         0.0|\n",
      "|(5,[2],[0.2674418...|         0.0|\n",
      "|(5,[2,3],[0.17441...|         0.0|\n",
      "|[1.0,1.0,0.267441...|         1.0|\n",
      "|[1.0,0.0,0.209302...|         0.0|\n",
      "|[1.0,0.0,0.162790...|         0.0|\n",
      "|[0.0,1.0,0.081395...|         0.0|\n",
      "|(5,[2,3],[0.12790...|         0.0|\n",
      "|[1.0,0.0,0.395348...|         0.0|\n",
      "|(5,[2],[0.1744186...|         0.0|\n",
      "|(5,[2,3],[0.23255...|         0.0|\n",
      "|(5,[2,3],[0.09302...|         0.0|\n",
      "|(5,[2],[0.2441860...|         0.0|\n",
      "|[1.0,0.0,0.290697...|         0.0|\n",
      "+--------------------+------------+\n",
      "only showing top 20 rows\n",
      "\n"
     ]
    },
    {
     "name": "stderr",
     "output_type": "stream",
     "text": [
      "21/12/08 18:03:34 WARN TaskSetManager: Stage 2203 contains a task of very large size (2684 KiB). The maximum recommended task size is 1000 KiB.\n",
      "21/12/08 18:03:35 WARN TaskSetManager: Stage 2206 contains a task of very large size (2684 KiB). The maximum recommended task size is 1000 KiB.\n",
      "21/12/08 18:03:36 WARN TaskSetManager: Stage 2207 contains a task of very large size (2684 KiB). The maximum recommended task size is 1000 KiB.\n",
      "21/12/08 18:03:39 WARN TaskSetManager: Stage 2230 contains a task of very large size (2684 KiB). The maximum recommended task size is 1000 KiB.\n",
      "21/12/08 18:03:40 WARN TaskSetManager: Stage 2231 contains a task of very large size (2684 KiB). The maximum recommended task size is 1000 KiB.\n",
      "[Stage 2231:============================>                           (4 + 4) / 8]\r"
     ]
    },
    {
     "name": "stdout",
     "output_type": "stream",
     "text": [
      "[0.25, 0.5, 0.75, 1]\n",
      "[8.187556749999203, 8.379148833000727, 9.713384167000186, 7.978330792000634]\n"
     ]
    }
   ],
   "source": [
    "from timeit import default_timer as timer\n",
    "sample, time = runtime(final_data,model_user=\"lr\")\n",
    "print(sample)\n",
    "print(time)"
   ]
  },
  {
   "cell_type": "code",
   "execution_count": 93,
   "id": "41d05f80",
   "metadata": {},
   "outputs": [
    {
     "data": {
      "text/plain": [
       "[8.187556749999203, 16.56670558299993, 26.280089750000116, 34.25842054200075]"
      ]
     },
     "execution_count": 93,
     "metadata": {},
     "output_type": "execute_result"
    }
   ],
   "source": [
    "timetaken = []\n",
    "t = 0\n",
    "for i in range(len(time)):\n",
    "    t = t + time[i]\n",
    "    timetaken.append(t)\n",
    "timetaken"
   ]
  },
  {
   "cell_type": "code",
   "execution_count": null,
   "id": "1e444010",
   "metadata": {},
   "outputs": [],
   "source": []
  }
 ],
 "metadata": {
  "kernelspec": {
   "display_name": "Python 3",
   "language": "python",
   "name": "python3"
  },
  "language_info": {
   "codemirror_mode": {
    "name": "ipython",
    "version": 3
   },
   "file_extension": ".py",
   "mimetype": "text/x-python",
   "name": "python",
   "nbconvert_exporter": "python",
   "pygments_lexer": "ipython3",
   "version": "3.8.8"
  }
 },
 "nbformat": 4,
 "nbformat_minor": 5
}
